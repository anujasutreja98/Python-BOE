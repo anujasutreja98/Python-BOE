{
  "nbformat": 4,
  "nbformat_minor": 0,
  "metadata": {
    "colab": {
      "provenance": []
    },
    "kernelspec": {
      "name": "python3",
      "display_name": "Python 3"
    },
    "language_info": {
      "name": "python"
    }
  },
  "cells": [
    {
      "cell_type": "markdown",
      "source": [
        "Reading the first dataset for creating clustering data_1"
      ],
      "metadata": {
        "id": "bYcCBf3k0aI3"
      }
    },
    {
      "cell_type": "code",
      "source": [
        "from google.colab import drive\n",
        "drive.mount('/content/drive')\n"
      ],
      "metadata": {
        "colab": {
          "base_uri": "https://localhost:8080/"
        },
        "id": "tL7Js3hNl6i3",
        "outputId": "891ab5ce-bc5d-4b66-a283-9a2f1998ec94"
      },
      "execution_count": 1,
      "outputs": [
        {
          "output_type": "stream",
          "name": "stdout",
          "text": [
            "Mounted at /content/drive\n"
          ]
        }
      ]
    },
    {
      "cell_type": "code",
      "source": [
        "import pandas as pd\n",
        "import numpy as np\n",
        "import matplotlib.pyplot as plt\n",
        "import seaborn as sns\n",
        "from sklearn.cluster import KMeans\n",
        "\n",
        "# Read the CSV file into a pandas DataFrame\n",
        "df_1 = pd.read_csv('/content/drive/My Drive/BOE/general_data.csv')\n",
        "\n",
        "# Now you can work with the DataFrame, for example, display its contents\n",
        "print(df_1)"
      ],
      "metadata": {
        "colab": {
          "base_uri": "https://localhost:8080/"
        },
        "id": "kMa5jxjAliUK",
        "outputId": "eae9a75d-a17e-4d80-9bd4-b4e6afd7033d"
      },
      "execution_count": 2,
      "outputs": [
        {
          "output_type": "stream",
          "name": "stdout",
          "text": [
            "         Firm  NWP_2016  NWP_2017  NWP_2018  NWP_2019  NWP_2020  \\\n",
            "0         NaN    2016YE    2017YE    2018YE    2019YE    2020YE   \n",
            "1      Firm_1  -17754.1         0         0         0         0   \n",
            "2      Firm_2      9.24       0.1     40.81     35.64     13.63   \n",
            "3      Firm_3         0      0.81     36.62     86.63     54.74   \n",
            "4      Firm_4  19677.45  41072.82  20885.51  14719.67  49204.47   \n",
            "..        ...       ...       ...       ...       ...       ...   \n",
            "322  Firm_322   3315.47   4136.48   2192.75   2252.92   2780.63   \n",
            "323  Firm_323         0         0         0         0         0   \n",
            "324  Firm_324     29.81        21     13.55      6.15     49.79   \n",
            "325  Firm_325    108.47     496.3    437.22    120.65         0   \n",
            "326       NaN       NaN       NaN       NaN       NaN       NaN   \n",
            "\n",
            "    SCR_coverage_ratio_2016 SCR_coverage_ratio_2017 SCR_coverage_ratio_2018  \\\n",
            "0                    2016YE                  2017YE                  2018YE   \n",
            "1                      0.16             55887003.06                    0.00   \n",
            "2                      5.65                    3.68                   10.24   \n",
            "3                      1.14                    1.71                    1.22   \n",
            "4                      0.68                    1.22                    2.70   \n",
            "..                      ...                     ...                     ...   \n",
            "322                    2.36                    0.97                    2.22   \n",
            "323                    2.06                    5.30                   22.54   \n",
            "324                    2.30                    0.45                    0.00   \n",
            "325                    2.53                    1.71                    2.18   \n",
            "326                     NaN                     NaN                     NaN   \n",
            "\n",
            "    SCR_coverage_ratio_2019  ...  GWP_2016  GWP_2017  GWP_2018  GWP_2019  \\\n",
            "0                    2019YE  ...    2016YE    2017YE    2018YE    2019YE   \n",
            "1                      0.00  ...     46.77         0         0         0   \n",
            "2                      5.79  ...     41.79      6.19     11.58      3.89   \n",
            "3                      1.35  ...         0     68.11    138.08    148.59   \n",
            "4                      2.03  ...  43375.81  23689.62  68276.76  41081.45   \n",
            "..                      ...  ...       ...       ...       ...       ...   \n",
            "322                    0.29  ...    337.06   2472.33    2287.8   1979.54   \n",
            "323                   67.28  ...         0         0         0         0   \n",
            "324                    0.06  ...     41.74     39.95    149.48    223.88   \n",
            "325                    0.75  ...    416.84    268.85    798.84    314.51   \n",
            "326                     NaN  ...       NaN       NaN       NaN       NaN   \n",
            "\n",
            "     GWP_2020 Equity_2016 Equity_2017 Equity_2018 Equity_2019 Equity_2020  \n",
            "0      2020YE      2016YE      2017YE      2018YE      2019YE      2020YE  \n",
            "1           0     1243.92         4.4           0           0           0  \n",
            "2       16.72        8.76       48.43        0.07       43.37       12.46  \n",
            "3       38.12      210.92      100.78       87.59      922.49      412.47  \n",
            "4    37761.88    24862.17     7191.96    12910.35    12586.97    24127.84  \n",
            "..        ...         ...         ...         ...         ...         ...  \n",
            "322   1129.66     3860.02     2114.65     3198.39     1029.87     3640.24  \n",
            "323         0       73.65       88.87       92.83       91.19        2.73  \n",
            "324     51.87        61.4       63.08       73.02       11.68       21.92  \n",
            "325         0      183.26      124.78       632.1      592.45           0  \n",
            "326       NaN         NaN         NaN         NaN         NaN         NaN  \n",
            "\n",
            "[327 rows x 21 columns]\n"
          ]
        }
      ]
    },
    {
      "cell_type": "code",
      "source": [
        "#transforming data through pivoting using melt function\n",
        "melted_df_1 = pd.melt(df_1, id_vars=['Firm'], var_name='metric', value_name='values')\n",
        "\n",
        "print(melted_df_1)\n"
      ],
      "metadata": {
        "colab": {
          "base_uri": "https://localhost:8080/"
        },
        "id": "A-hrORNEsKQH",
        "outputId": "c05179bf-25bb-4924-835c-03b7dbec0ec5"
      },
      "execution_count": 3,
      "outputs": [
        {
          "output_type": "stream",
          "name": "stdout",
          "text": [
            "          Firm       metric    values\n",
            "0          NaN     NWP_2016    2016YE\n",
            "1       Firm_1     NWP_2016  -17754.1\n",
            "2       Firm_2     NWP_2016      9.24\n",
            "3       Firm_3     NWP_2016         0\n",
            "4       Firm_4     NWP_2016  19677.45\n",
            "...        ...          ...       ...\n",
            "6535  Firm_322  Equity_2020   3640.24\n",
            "6536  Firm_323  Equity_2020      2.73\n",
            "6537  Firm_324  Equity_2020     21.92\n",
            "6538  Firm_325  Equity_2020         0\n",
            "6539       NaN  Equity_2020       NaN\n",
            "\n",
            "[6540 rows x 3 columns]\n"
          ]
        }
      ]
    },
    {
      "cell_type": "code",
      "source": [
        "#ordering by firm name\n",
        "sorted_df_1 = melted_df_1.sort_values(by='Firm')\n",
        "print(sorted_df_1)"
      ],
      "metadata": {
        "colab": {
          "base_uri": "https://localhost:8080/"
        },
        "id": "bl5I144wv8BB",
        "outputId": "7d00dbb9-5444-4a64-e727-d5e9f67b3022"
      },
      "execution_count": 4,
      "outputs": [
        {
          "output_type": "stream",
          "name": "stdout",
          "text": [
            "        Firm       metric    values\n",
            "1     Firm_1     NWP_2016  -17754.1\n",
            "4579  Firm_1     GWP_2020         0\n",
            "5233  Firm_1  Equity_2017       4.4\n",
            "4252  Firm_1     GWP_2019         0\n",
            "328   Firm_1     NWP_2017         0\n",
            "...      ...          ...       ...\n",
            "5885     NaN  Equity_2018       NaN\n",
            "5886     NaN  Equity_2019    2019YE\n",
            "6212     NaN  Equity_2019       NaN\n",
            "6213     NaN  Equity_2020    2020YE\n",
            "6539     NaN  Equity_2020       NaN\n",
            "\n",
            "[6540 rows x 3 columns]\n"
          ]
        }
      ]
    },
    {
      "cell_type": "code",
      "source": [
        "#removing rows with blanks in the column Firm\n",
        "cleaned_df_1 = sorted_df_1.dropna(subset=['Firm'])\n",
        "print(cleaned_df_1)\n"
      ],
      "metadata": {
        "colab": {
          "base_uri": "https://localhost:8080/"
        },
        "id": "3cO6jAmU12Gn",
        "outputId": "75883670-6f58-4826-e914-3267320d89db"
      },
      "execution_count": 5,
      "outputs": [
        {
          "output_type": "stream",
          "name": "stdout",
          "text": [
            "         Firm                   metric    values\n",
            "1      Firm_1                 NWP_2016  -17754.1\n",
            "4579   Firm_1                 GWP_2020         0\n",
            "5233   Firm_1              Equity_2017       4.4\n",
            "4252   Firm_1                 GWP_2019         0\n",
            "328    Firm_1                 NWP_2017         0\n",
            "...       ...                      ...       ...\n",
            "5004  Firm_99              Equity_2016     64.29\n",
            "2061  Firm_99  SCR_coverage_ratio_2017      1.21\n",
            "1407  Firm_99                 NWP_2020    142.51\n",
            "3369  Firm_99                 GWP_2016     178.7\n",
            "99    Firm_99                 NWP_2016     281.4\n",
            "\n",
            "[6500 rows x 3 columns]\n"
          ]
        }
      ]
    },
    {
      "cell_type": "code",
      "source": [
        "#creating a year and metric column from the dataset\n",
        "cleaned_df_1['Year'] = cleaned_df_1['metric'].str[-4:]\n",
        "cleaned_df_1['Metric'] = cleaned_df_1['metric'].str[:-5]\n",
        "treated_df_1 = cleaned_df_1.drop('metric', axis=1)\n",
        "\n",
        "#typecasting value column as numeric\n",
        "treated_df_1['values'] = pd.to_numeric(treated_df_1['values'])\n",
        "print(treated_df_1)"
      ],
      "metadata": {
        "colab": {
          "base_uri": "https://localhost:8080/"
        },
        "id": "bW0Atpgl3Fay",
        "outputId": "5497cdfc-dd9c-4244-8a73-bc0e56d4e1f5"
      },
      "execution_count": 6,
      "outputs": [
        {
          "output_type": "stream",
          "name": "stdout",
          "text": [
            "         Firm    values  Year              Metric\n",
            "1      Firm_1 -17754.10  2016                 NWP\n",
            "4579   Firm_1      0.00  2020                 GWP\n",
            "5233   Firm_1      4.40  2017              Equity\n",
            "4252   Firm_1      0.00  2019                 GWP\n",
            "328    Firm_1      0.00  2017                 NWP\n",
            "...       ...       ...   ...                 ...\n",
            "5004  Firm_99     64.29  2016              Equity\n",
            "2061  Firm_99      1.21  2017  SCR_coverage_ratio\n",
            "1407  Firm_99    142.51  2020                 NWP\n",
            "3369  Firm_99    178.70  2016                 GWP\n",
            "99    Firm_99    281.40  2016                 NWP\n",
            "\n",
            "[6500 rows x 4 columns]\n"
          ]
        },
        {
          "output_type": "stream",
          "name": "stderr",
          "text": [
            "<ipython-input-6-b38f4b0d0cf8>:2: SettingWithCopyWarning: \n",
            "A value is trying to be set on a copy of a slice from a DataFrame.\n",
            "Try using .loc[row_indexer,col_indexer] = value instead\n",
            "\n",
            "See the caveats in the documentation: https://pandas.pydata.org/pandas-docs/stable/user_guide/indexing.html#returning-a-view-versus-a-copy\n",
            "  cleaned_df_1['Year'] = cleaned_df_1['metric'].str[-4:]\n",
            "<ipython-input-6-b38f4b0d0cf8>:3: SettingWithCopyWarning: \n",
            "A value is trying to be set on a copy of a slice from a DataFrame.\n",
            "Try using .loc[row_indexer,col_indexer] = value instead\n",
            "\n",
            "See the caveats in the documentation: https://pandas.pydata.org/pandas-docs/stable/user_guide/indexing.html#returning-a-view-versus-a-copy\n",
            "  cleaned_df_1['Metric'] = cleaned_df_1['metric'].str[:-5]\n"
          ]
        }
      ]
    },
    {
      "cell_type": "code",
      "source": [
        "print(treated_df_1)"
      ],
      "metadata": {
        "id": "7VNlRtoql45O"
      },
      "execution_count": null,
      "outputs": []
    },
    {
      "cell_type": "code",
      "source": [
        "#recasting the transformed table\n",
        "pivoted_df_1 = treated_df_1.pivot(index=['Firm','Year'],columns=(\"Metric\"), values='values')\n",
        "print(pivoted_df_1)"
      ],
      "metadata": {
        "colab": {
          "base_uri": "https://localhost:8080/"
        },
        "id": "kXz4YqoU5Sh9",
        "outputId": "d3b4fdf9-0912-4296-e658-9bdef1ab3b39"
      },
      "execution_count": 7,
      "outputs": [
        {
          "output_type": "stream",
          "name": "stdout",
          "text": [
            "Metric         Equity     GWP       NWP  SCR_coverage_ratio\n",
            "Firm    Year                                               \n",
            "Firm_1  2016  1243.92   46.77 -17754.10                0.16\n",
            "        2017     4.40    0.00      0.00         55887003.06\n",
            "        2018     0.00    0.00      0.00                0.00\n",
            "        2019     0.00    0.00      0.00                0.00\n",
            "        2020     0.00    0.00      0.00                0.00\n",
            "...               ...     ...       ...                 ...\n",
            "Firm_99 2016    64.29  178.70    281.40                2.14\n",
            "        2017   480.43  557.71    120.76                1.21\n",
            "        2018   634.15  421.34    308.35                0.75\n",
            "        2019    37.81  932.92    112.03                0.21\n",
            "        2020   245.32  465.69    142.51                2.50\n",
            "\n",
            "[1625 rows x 4 columns]\n"
          ]
        }
      ]
    },
    {
      "cell_type": "code",
      "source": [
        "#retaining the Year and Metric columns in the dataset\n",
        "pivot_table_reset_1 = pivoted_df_1.reset_index()\n",
        "print(pivot_table_reset_1)"
      ],
      "metadata": {
        "colab": {
          "base_uri": "https://localhost:8080/"
        },
        "id": "0ioLVvo8oTpU",
        "outputId": "eebb7250-a210-4628-cbdc-e52171f88f81"
      },
      "execution_count": 8,
      "outputs": [
        {
          "output_type": "stream",
          "name": "stdout",
          "text": [
            "Metric     Firm  Year   Equity     GWP       NWP  SCR_coverage_ratio\n",
            "0        Firm_1  2016  1243.92   46.77 -17754.10                0.16\n",
            "1        Firm_1  2017     4.40    0.00      0.00         55887003.06\n",
            "2        Firm_1  2018     0.00    0.00      0.00                0.00\n",
            "3        Firm_1  2019     0.00    0.00      0.00                0.00\n",
            "4        Firm_1  2020     0.00    0.00      0.00                0.00\n",
            "...         ...   ...      ...     ...       ...                 ...\n",
            "1620    Firm_99  2016    64.29  178.70    281.40                2.14\n",
            "1621    Firm_99  2017   480.43  557.71    120.76                1.21\n",
            "1622    Firm_99  2018   634.15  421.34    308.35                0.75\n",
            "1623    Firm_99  2019    37.81  932.92    112.03                0.21\n",
            "1624    Firm_99  2020   245.32  465.69    142.51                2.50\n",
            "\n",
            "[1625 rows x 6 columns]\n"
          ]
        }
      ]
    },
    {
      "cell_type": "code",
      "source": [
        "columns_list = pivot_table_reset_1.columns.tolist()\n",
        "\n",
        "print(columns_list)"
      ],
      "metadata": {
        "colab": {
          "base_uri": "https://localhost:8080/"
        },
        "id": "b32Qp-ILifyP",
        "outputId": "ce17a20c-d255-497d-9600-18722879f3aa"
      },
      "execution_count": 9,
      "outputs": [
        {
          "output_type": "stream",
          "name": "stdout",
          "text": [
            "['Firm', 'Year', 'Equity', 'GWP', 'NWP', 'SCR_coverage_ratio']\n"
          ]
        }
      ]
    },
    {
      "cell_type": "code",
      "source": [
        "schema = pivoted_df_1.dtypes\n",
        "\n",
        "print(schema)"
      ],
      "metadata": {
        "colab": {
          "base_uri": "https://localhost:8080/"
        },
        "id": "jsXSuF3Dh_T5",
        "outputId": "edced7f1-a826-4ec8-ae82-7d481d1360f8"
      },
      "execution_count": 38,
      "outputs": [
        {
          "output_type": "stream",
          "name": "stdout",
          "text": [
            "Metric\n",
            "Equity                float64\n",
            "GWP                   float64\n",
            "NWP                   float64\n",
            "SCR_coverage_ratio    float64\n",
            "dtype: object\n"
          ]
        }
      ]
    },
    {
      "cell_type": "code",
      "source": [
        "#aggregating and taking an average across the years for creating dataset for clustering\n",
        "\n",
        "# Group the data by 'Category' and 'Subcategory', then calculate the average using 'mean()'\n",
        "cluster_data_1 = pivot_table_reset_1.groupby(['Firm'])['Equity','GWP','NWP','SCR_coverage_ratio'].mean().reset_index()\n",
        "\n",
        "print(cluster_data_1)\n"
      ],
      "metadata": {
        "colab": {
          "base_uri": "https://localhost:8080/"
        },
        "id": "M-rDgQHYqmJ4",
        "outputId": "1c9070b4-7f2e-4778-d0fa-ea6a63c8e259"
      },
      "execution_count": 10,
      "outputs": [
        {
          "output_type": "stream",
          "name": "stdout",
          "text": [
            "Metric      Firm    Equity       GWP       NWP  SCR_coverage_ratio\n",
            "0         Firm_1   249.664     9.354 -3550.820        1.117740e+07\n",
            "1        Firm_10  7289.004  6200.640  3269.050        1.118000e+00\n",
            "2       Firm_100   136.324    24.972    29.808        1.292000e+00\n",
            "3       Firm_101  7730.016  6633.498  3687.636        1.084000e+00\n",
            "4       Firm_102     2.346     0.000     0.000        2.734000e+00\n",
            "..           ...       ...       ...       ...                 ...\n",
            "320      Firm_95    20.168     0.008     0.004        6.122000e+00\n",
            "321      Firm_96    50.864    -0.002    -0.004        8.680000e-01\n",
            "322      Firm_97    54.188     7.500     6.196        2.018000e+00\n",
            "323      Firm_98     2.516     0.000     0.000        3.280000e+00\n",
            "324      Firm_99   292.400   511.272   193.010        1.362000e+00\n",
            "\n",
            "[325 rows x 5 columns]\n"
          ]
        },
        {
          "output_type": "stream",
          "name": "stderr",
          "text": [
            "<ipython-input-10-3c6a680c25cb>:4: FutureWarning: Indexing with multiple keys (implicitly converted to a tuple of keys) will be deprecated, use a list instead.\n",
            "  cluster_data_1 = pivot_table_reset_1.groupby(['Firm'])['Equity','GWP','NWP','SCR_coverage_ratio'].mean().reset_index()\n"
          ]
        }
      ]
    },
    {
      "cell_type": "markdown",
      "source": [
        "Reading the second dataset for creating clustering data_2"
      ],
      "metadata": {
        "id": "g-aLc9mJ0lJy"
      }
    },
    {
      "cell_type": "code",
      "source": [
        "# Read the CSV file into a pandas DataFrame\n",
        "df_2 = pd.read_csv('/content/drive/My Drive/BOE/underwriting_data.csv')\n",
        "\n",
        "# Now you can work with the DataFrame, for example, display its contents\n",
        "print(df_2)"
      ],
      "metadata": {
        "colab": {
          "base_uri": "https://localhost:8080/"
        },
        "id": "NLYspWS6wz_y",
        "outputId": "830a4951-380a-417a-c1d7-156b22a4b24b"
      },
      "execution_count": 11,
      "outputs": [
        {
          "output_type": "stream",
          "name": "stdout",
          "text": [
            "         Firm gross_claims_incurred_2016 gross_claims_incurred_2017  \\\n",
            "0         NaN                     2016YE                     2017YE   \n",
            "1      Firm_1                          0                       0.01   \n",
            "2      Firm_2                      44.47                      29.49   \n",
            "3      Firm_3                          0                          0   \n",
            "4      Firm_4                      14.34                      71.06   \n",
            "..        ...                        ...                        ...   \n",
            "452  Firm_452                          0                          0   \n",
            "453  Firm_453                       8.39                      -1.74   \n",
            "454  Firm_454                          2                       3.69   \n",
            "455  Firm_455                          0                       4.55   \n",
            "456  Firm_456                          0                          0   \n",
            "\n",
            "    gross_claims_incurred_2018 gross_claims_incurred_2019  \\\n",
            "0                       2018YE                     2019YE   \n",
            "1                            0                          0   \n",
            "2                         34.1                          0   \n",
            "3                            0                          0   \n",
            "4                        87.91                      42.28   \n",
            "..                         ...                        ...   \n",
            "452                          0                          0   \n",
            "453                      -1.86                      -0.77   \n",
            "454                      32.55                      14.85   \n",
            "455                        1.6                        9.1   \n",
            "456                          0                          0   \n",
            "\n",
            "    gross_claims_incurred_2020 net _combined_ratio_2016  \\\n",
            "0                       2020YE                   2016YE   \n",
            "1                            0                        0   \n",
            "2                            0                     1.28   \n",
            "3                            0                        0   \n",
            "4                         3.67                     0.67   \n",
            "..                         ...                      ...   \n",
            "452                          0                        0   \n",
            "453                      -3.38                        0   \n",
            "454                      15.24                     0.93   \n",
            "455                     185.08                        0   \n",
            "456                          0                        0   \n",
            "\n",
            "    net _combined_ratio_2017 net _combined_ratio_2018  \\\n",
            "0                     2017YE                   2018YE   \n",
            "1                       71.3                        0   \n",
            "2                       2.18                     0.69   \n",
            "3                          0                        0   \n",
            "4                       1.99                     1.84   \n",
            "..                       ...                      ...   \n",
            "452                        0                        0   \n",
            "453                        0                        0   \n",
            "454                     2.83                     3.03   \n",
            "455                    -0.84                    -0.78   \n",
            "456                        0                        0   \n",
            "\n",
            "    net _combined_ratio_2019 net _combined_ratio_2020  \n",
            "0                     2019YE                   2020YE  \n",
            "1                          0                        0  \n",
            "2                          0                        0  \n",
            "3                          0                        0  \n",
            "4                       3.82                    -3.55  \n",
            "..                       ...                      ...  \n",
            "452                        0                        0  \n",
            "453                        0                        0  \n",
            "454                     0.05                     5.83  \n",
            "455                     -0.4                    -0.77  \n",
            "456                        0                        0  \n",
            "\n",
            "[457 rows x 11 columns]\n"
          ]
        }
      ]
    },
    {
      "cell_type": "code",
      "source": [
        "#transforming data through pivoting using melt function\n",
        "melted_df_2 = pd.melt(df_2, id_vars=['Firm'], var_name='metric', value_name='values')\n",
        "\n",
        "print(melted_df_2)\n"
      ],
      "metadata": {
        "colab": {
          "base_uri": "https://localhost:8080/"
        },
        "id": "l3YHpfL5wz_y",
        "outputId": "90a4a52c-29f7-4b3a-df6d-df770e0f7a26"
      },
      "execution_count": 12,
      "outputs": [
        {
          "output_type": "stream",
          "name": "stdout",
          "text": [
            "          Firm                      metric  values\n",
            "0          NaN  gross_claims_incurred_2016  2016YE\n",
            "1       Firm_1  gross_claims_incurred_2016       0\n",
            "2       Firm_2  gross_claims_incurred_2016   44.47\n",
            "3       Firm_3  gross_claims_incurred_2016       0\n",
            "4       Firm_4  gross_claims_incurred_2016   14.34\n",
            "...        ...                         ...     ...\n",
            "4565  Firm_452    net _combined_ratio_2020       0\n",
            "4566  Firm_453    net _combined_ratio_2020       0\n",
            "4567  Firm_454    net _combined_ratio_2020    5.83\n",
            "4568  Firm_455    net _combined_ratio_2020   -0.77\n",
            "4569  Firm_456    net _combined_ratio_2020       0\n",
            "\n",
            "[4570 rows x 3 columns]\n"
          ]
        }
      ]
    },
    {
      "cell_type": "code",
      "source": [
        "#ordering by firm name\n",
        "sorted_df_2 = melted_df_2.sort_values(by='Firm')\n",
        "print(sorted_df_2)"
      ],
      "metadata": {
        "colab": {
          "base_uri": "https://localhost:8080/"
        },
        "outputId": "f227e613-9ba8-4da2-e30d-2bc3f2508351",
        "id": "lEmb4TEowz_y"
      },
      "execution_count": 13,
      "outputs": [
        {
          "output_type": "stream",
          "name": "stdout",
          "text": [
            "        Firm                      metric  values\n",
            "1     Firm_1  gross_claims_incurred_2016       0\n",
            "1372  Firm_1  gross_claims_incurred_2019       0\n",
            "458   Firm_1  gross_claims_incurred_2017    0.01\n",
            "1829  Firm_1  gross_claims_incurred_2020       0\n",
            "2286  Firm_1    net _combined_ratio_2016       0\n",
            "...      ...                         ...     ...\n",
            "2285     NaN    net _combined_ratio_2016  2016YE\n",
            "2742     NaN    net _combined_ratio_2017  2017YE\n",
            "3199     NaN    net _combined_ratio_2018  2018YE\n",
            "3656     NaN    net _combined_ratio_2019  2019YE\n",
            "4113     NaN    net _combined_ratio_2020  2020YE\n",
            "\n",
            "[4570 rows x 3 columns]\n"
          ]
        }
      ]
    },
    {
      "cell_type": "code",
      "source": [
        "#removing rows with blanks in the column Firm\n",
        "cleaned_df_2 = sorted_df_2.dropna(subset=['Firm'])\n",
        "print(cleaned_df_2)\n"
      ],
      "metadata": {
        "colab": {
          "base_uri": "https://localhost:8080/"
        },
        "id": "jnuqsBHLwz_z",
        "outputId": "c0ab9fba-5912-4175-bf11-5e95082a0350"
      },
      "execution_count": 14,
      "outputs": [
        {
          "output_type": "stream",
          "name": "stdout",
          "text": [
            "         Firm                      metric values\n",
            "1      Firm_1  gross_claims_incurred_2016      0\n",
            "1372   Firm_1  gross_claims_incurred_2019      0\n",
            "458    Firm_1  gross_claims_incurred_2017   0.01\n",
            "1829   Firm_1  gross_claims_incurred_2020      0\n",
            "2286   Firm_1    net _combined_ratio_2016      0\n",
            "...       ...                         ...    ...\n",
            "1470  Firm_99  gross_claims_incurred_2019  -2.41\n",
            "1013  Firm_99  gross_claims_incurred_2018   3.28\n",
            "556   Firm_99  gross_claims_incurred_2017  12.18\n",
            "1927  Firm_99  gross_claims_incurred_2020   2.19\n",
            "4212  Firm_99    net _combined_ratio_2020      0\n",
            "\n",
            "[4560 rows x 3 columns]\n"
          ]
        }
      ]
    },
    {
      "cell_type": "code",
      "source": [
        "#creating a year and metric column from the dataset\n",
        "cleaned_df_2['Year'] = cleaned_df_2['metric'].str[-4:]\n",
        "cleaned_df_2['Metric'] = cleaned_df_2['metric'].str[:-5]\n",
        "treated_df_2 = cleaned_df_2.drop('metric', axis=1)\n",
        "\n",
        "#typecasting value column as numeric\n",
        "treated_df_2['values'] = pd.to_numeric(treated_df_2['values'])\n",
        "print(treated_df_2)"
      ],
      "metadata": {
        "colab": {
          "base_uri": "https://localhost:8080/"
        },
        "id": "rUZco8uqwz_z",
        "outputId": "89ddd890-be7a-47fb-98e2-473c9adde329"
      },
      "execution_count": 15,
      "outputs": [
        {
          "output_type": "stream",
          "name": "stdout",
          "text": [
            "         Firm  values  Year                 Metric\n",
            "1      Firm_1    0.00  2016  gross_claims_incurred\n",
            "1372   Firm_1    0.00  2019  gross_claims_incurred\n",
            "458    Firm_1    0.01  2017  gross_claims_incurred\n",
            "1829   Firm_1    0.00  2020  gross_claims_incurred\n",
            "2286   Firm_1    0.00  2016    net _combined_ratio\n",
            "...       ...     ...   ...                    ...\n",
            "1470  Firm_99   -2.41  2019  gross_claims_incurred\n",
            "1013  Firm_99    3.28  2018  gross_claims_incurred\n",
            "556   Firm_99   12.18  2017  gross_claims_incurred\n",
            "1927  Firm_99    2.19  2020  gross_claims_incurred\n",
            "4212  Firm_99    0.00  2020    net _combined_ratio\n",
            "\n",
            "[4560 rows x 4 columns]\n"
          ]
        },
        {
          "output_type": "stream",
          "name": "stderr",
          "text": [
            "<ipython-input-15-fbbb3a63147f>:2: SettingWithCopyWarning: \n",
            "A value is trying to be set on a copy of a slice from a DataFrame.\n",
            "Try using .loc[row_indexer,col_indexer] = value instead\n",
            "\n",
            "See the caveats in the documentation: https://pandas.pydata.org/pandas-docs/stable/user_guide/indexing.html#returning-a-view-versus-a-copy\n",
            "  cleaned_df_2['Year'] = cleaned_df_2['metric'].str[-4:]\n",
            "<ipython-input-15-fbbb3a63147f>:3: SettingWithCopyWarning: \n",
            "A value is trying to be set on a copy of a slice from a DataFrame.\n",
            "Try using .loc[row_indexer,col_indexer] = value instead\n",
            "\n",
            "See the caveats in the documentation: https://pandas.pydata.org/pandas-docs/stable/user_guide/indexing.html#returning-a-view-versus-a-copy\n",
            "  cleaned_df_2['Metric'] = cleaned_df_2['metric'].str[:-5]\n"
          ]
        }
      ]
    },
    {
      "cell_type": "code",
      "source": [
        "print(treated_df_2)"
      ],
      "metadata": {
        "colab": {
          "base_uri": "https://localhost:8080/"
        },
        "outputId": "0f7eef91-d5e3-41c3-fedf-518e0b3cac5e",
        "id": "JSF4N5yBwz_z"
      },
      "execution_count": 78,
      "outputs": [
        {
          "output_type": "stream",
          "name": "stdout",
          "text": [
            "         Firm  values  Year                 Metric\n",
            "1      Firm_1    0.00  2016  gross_claims_incurred\n",
            "1372   Firm_1    0.00  2019  gross_claims_incurred\n",
            "458    Firm_1    0.01  2017  gross_claims_incurred\n",
            "1829   Firm_1    0.00  2020  gross_claims_incurred\n",
            "2286   Firm_1    0.00  2016    net _combined_ratio\n",
            "...       ...     ...   ...                    ...\n",
            "1470  Firm_99   -2.41  2019  gross_claims_incurred\n",
            "1013  Firm_99    3.28  2018  gross_claims_incurred\n",
            "556   Firm_99   12.18  2017  gross_claims_incurred\n",
            "1927  Firm_99    2.19  2020  gross_claims_incurred\n",
            "4212  Firm_99    0.00  2020    net _combined_ratio\n",
            "\n",
            "[4560 rows x 4 columns]\n"
          ]
        }
      ]
    },
    {
      "cell_type": "code",
      "source": [
        "#recasting the transformed table\n",
        "pivoted_df_2 = treated_df_2.pivot(index=['Firm','Year'],columns=(\"Metric\"), values='values')\n",
        "print(pivoted_df_2)"
      ],
      "metadata": {
        "colab": {
          "base_uri": "https://localhost:8080/"
        },
        "outputId": "555984d1-304e-4a64-cbe8-cf620397cd92",
        "id": "1HeMTmPEwz_z"
      },
      "execution_count": 16,
      "outputs": [
        {
          "output_type": "stream",
          "name": "stdout",
          "text": [
            "Metric        gross_claims_incurred  net _combined_ratio\n",
            "Firm    Year                                            \n",
            "Firm_1  2016                   0.00                 0.00\n",
            "        2017                   0.01                71.30\n",
            "        2018                   0.00                 0.00\n",
            "        2019                   0.00                 0.00\n",
            "        2020                   0.00                 0.00\n",
            "...                             ...                  ...\n",
            "Firm_99 2016                 116.53                 0.00\n",
            "        2017                  12.18            -73450.27\n",
            "        2018                   3.28                 0.00\n",
            "        2019                  -2.41                 0.00\n",
            "        2020                   2.19                 0.00\n",
            "\n",
            "[2280 rows x 2 columns]\n"
          ]
        }
      ]
    },
    {
      "cell_type": "code",
      "source": [
        "#retaining the Year and Metric columns in the dataset\n",
        "pivot_table_reset_2 = pivoted_df_2.reset_index()\n",
        "print(pivot_table_reset_2)"
      ],
      "metadata": {
        "colab": {
          "base_uri": "https://localhost:8080/"
        },
        "outputId": "7ca323c7-f205-4e56-f0c0-7c37ba54f8f2",
        "id": "xI0SA9CZwz_0"
      },
      "execution_count": 17,
      "outputs": [
        {
          "output_type": "stream",
          "name": "stdout",
          "text": [
            "Metric     Firm  Year  gross_claims_incurred  net _combined_ratio\n",
            "0        Firm_1  2016                   0.00                 0.00\n",
            "1        Firm_1  2017                   0.01                71.30\n",
            "2        Firm_1  2018                   0.00                 0.00\n",
            "3        Firm_1  2019                   0.00                 0.00\n",
            "4        Firm_1  2020                   0.00                 0.00\n",
            "...         ...   ...                    ...                  ...\n",
            "2275    Firm_99  2016                 116.53                 0.00\n",
            "2276    Firm_99  2017                  12.18            -73450.27\n",
            "2277    Firm_99  2018                   3.28                 0.00\n",
            "2278    Firm_99  2019                  -2.41                 0.00\n",
            "2279    Firm_99  2020                   2.19                 0.00\n",
            "\n",
            "[2280 rows x 4 columns]\n"
          ]
        }
      ]
    },
    {
      "cell_type": "code",
      "source": [
        "columns_list = pivot_table_reset_2.columns.tolist()\n",
        "\n",
        "print(columns_list)"
      ],
      "metadata": {
        "colab": {
          "base_uri": "https://localhost:8080/"
        },
        "outputId": "40601d26-618c-4423-fcec-0fe3750acafc",
        "id": "GKrgp68Gwz_0"
      },
      "execution_count": 19,
      "outputs": [
        {
          "output_type": "stream",
          "name": "stdout",
          "text": [
            "['Firm', 'Year', 'gross_claims_incurred', 'net _combined_ratio']\n"
          ]
        }
      ]
    },
    {
      "cell_type": "code",
      "source": [
        "schema = pivoted_df_2.dtypes\n",
        "\n",
        "print(schema)"
      ],
      "metadata": {
        "colab": {
          "base_uri": "https://localhost:8080/"
        },
        "outputId": "96a88613-4bbb-4dce-cd7c-796f6114aa56",
        "id": "BPSwvtbHwz_1"
      },
      "execution_count": 82,
      "outputs": [
        {
          "output_type": "stream",
          "name": "stdout",
          "text": [
            "Metric\n",
            "gross_claims_incurred    float64\n",
            "net _combined_ratio      float64\n",
            "dtype: object\n"
          ]
        }
      ]
    },
    {
      "cell_type": "code",
      "source": [
        "#aggregating and taking an average across the years for creating dataset for clustering\n",
        "\n",
        "# Group the data by 'Category' and 'Subcategory', then calculate the average using 'mean()'\n",
        "cluster_data_2 = pivoted_df_2.groupby(['Firm'])['gross_claims_incurred','net _combined_ratio'].mean().reset_index()\n",
        "\n",
        "print(cluster_data_2)\n"
      ],
      "metadata": {
        "colab": {
          "base_uri": "https://localhost:8080/"
        },
        "outputId": "301013a1-0b78-42f1-964a-20f6f226d586",
        "id": "0_UCsCNQwz_1"
      },
      "execution_count": 18,
      "outputs": [
        {
          "output_type": "stream",
          "name": "stdout",
          "text": [
            "Metric      Firm  gross_claims_incurred  net _combined_ratio\n",
            "0         Firm_1                  0.002               14.260\n",
            "1        Firm_10                111.120                0.804\n",
            "2       Firm_100                152.224                0.310\n",
            "3       Firm_101                  0.000                0.000\n",
            "4       Firm_102                304.844                1.168\n",
            "..           ...                    ...                  ...\n",
            "451      Firm_95                  0.000                0.000\n",
            "452      Firm_96                344.746                0.368\n",
            "453      Firm_97                 98.280                0.488\n",
            "454      Firm_98                  0.000                0.000\n",
            "455      Firm_99                 26.354           -14690.054\n",
            "\n",
            "[456 rows x 3 columns]\n"
          ]
        },
        {
          "output_type": "stream",
          "name": "stderr",
          "text": [
            "<ipython-input-18-666c968a8ba3>:4: FutureWarning: Indexing with multiple keys (implicitly converted to a tuple of keys) will be deprecated, use a list instead.\n",
            "  cluster_data_2 = pivoted_df_2.groupby(['Firm'])['gross_claims_incurred','net _combined_ratio'].mean().reset_index()\n"
          ]
        }
      ]
    },
    {
      "cell_type": "code",
      "source": [
        "columns_list = cluster_data_2.columns.tolist()\n",
        "\n",
        "print(columns_list)"
      ],
      "metadata": {
        "colab": {
          "base_uri": "https://localhost:8080/"
        },
        "id": "HH5paxrpzoCH",
        "outputId": "50d3eaf1-9eb6-42ee-9948-12cc43a6d9c1"
      },
      "execution_count": 21,
      "outputs": [
        {
          "output_type": "stream",
          "name": "stdout",
          "text": [
            "['Firm', 'gross_claims_incurred', 'net _combined_ratio']\n"
          ]
        }
      ]
    },
    {
      "cell_type": "markdown",
      "source": [
        "Data Quality Analysis for the two datasets"
      ],
      "metadata": {
        "id": "X65S4jUV0T25"
      }
    },
    {
      "cell_type": "code",
      "source": [
        "#checking for NA values in both datasets\n",
        "\n",
        "na_values_series_1 = cluster_data_1.isna()\n",
        "\n",
        "# Check if there is any True in the Series\n",
        "any_true_in_series_1 = na_values_series_1.any()\n",
        "\n",
        "print(any_true_in_series_1)\n",
        "\n",
        "na_values_series_2 = cluster_data_2.isna()\n",
        "\n",
        "# Check if there is any True in the Series\n",
        "any_true_in_series_2 = na_values_series_1.any()\n",
        "\n",
        "print(any_true_in_series_2)\n",
        "\n",
        "#There are no Na values\n"
      ],
      "metadata": {
        "colab": {
          "base_uri": "https://localhost:8080/"
        },
        "id": "DN-Rcnco0YE8",
        "outputId": "34988d8b-b330-495d-ad16-af5b426719c8"
      },
      "execution_count": 19,
      "outputs": [
        {
          "output_type": "stream",
          "name": "stdout",
          "text": [
            "Metric\n",
            "Firm                  False\n",
            "Equity                False\n",
            "GWP                   False\n",
            "NWP                   False\n",
            "SCR_coverage_ratio    False\n",
            "dtype: bool\n",
            "Metric\n",
            "Firm                  False\n",
            "Equity                False\n",
            "GWP                   False\n",
            "NWP                   False\n",
            "SCR_coverage_ratio    False\n",
            "dtype: bool\n"
          ]
        }
      ]
    },
    {
      "cell_type": "code",
      "source": [
        "# Check if there are any NaN values in each column\n",
        "any_nan_values = cluster_data_1.any()\n",
        "print(any_nan_values)\n",
        "\n",
        "any_empty_strings = cluster_data_2.any()\n",
        "print(any_empty_strings)\n",
        "\n",
        "#there are no empty spaces in the dataset"
      ],
      "metadata": {
        "colab": {
          "base_uri": "https://localhost:8080/"
        },
        "id": "ThUD8KuW3ZxN",
        "outputId": "1e68d7fd-e2e9-4ce9-a736-277433ab6291"
      },
      "execution_count": 20,
      "outputs": [
        {
          "output_type": "stream",
          "name": "stdout",
          "text": [
            "Metric\n",
            "Firm                  True\n",
            "Equity                True\n",
            "GWP                   True\n",
            "NWP                   True\n",
            "SCR_coverage_ratio    True\n",
            "dtype: bool\n",
            "Metric\n",
            "Firm                     True\n",
            "gross_claims_incurred    True\n",
            "net _combined_ratio      True\n",
            "dtype: bool\n"
          ]
        }
      ]
    },
    {
      "cell_type": "markdown",
      "source": [
        "Primary EDA on the dataset"
      ],
      "metadata": {
        "id": "YTi84GSA5dHo"
      }
    },
    {
      "cell_type": "code",
      "source": [
        "#summary statistics\n",
        "summary_statistics_1 = cluster_data_1.describe()\n",
        "print(summary_statistics_1)"
      ],
      "metadata": {
        "colab": {
          "base_uri": "https://localhost:8080/"
        },
        "id": "qauMJD2U5XrG",
        "outputId": "773ef1d5-b98f-4902-96c2-c46f00c27949"
      },
      "execution_count": 21,
      "outputs": [
        {
          "output_type": "stream",
          "name": "stdout",
          "text": [
            "Metric        Equity           GWP           NWP  SCR_coverage_ratio\n",
            "count     325.000000    325.000000    325.000000        3.250000e+02\n",
            "mean      539.107188    936.694966    731.756148        1.228704e+06\n",
            "std      1992.076328   4250.562532   3195.870827        1.510808e+07\n",
            "min       -74.758000     -0.792000  -3550.820000       -8.400000e-01\n",
            "25%        10.070000      0.014000      0.000000        1.088000e+00\n",
            "50%        46.736000     21.542000     11.086000        1.764000e+00\n",
            "75%       200.336000    242.132000    165.774000        3.034000e+00\n",
            "max     20771.454000  53157.318000  35411.424000        1.998606e+08\n"
          ]
        }
      ]
    },
    {
      "cell_type": "code",
      "source": [
        "summary_statistics_2 = cluster_data_2.describe()\n",
        "print(summary_statistics_2)"
      ],
      "metadata": {
        "colab": {
          "base_uri": "https://localhost:8080/"
        },
        "id": "WmWjLUWz-0VE",
        "outputId": "ba4b78a9-ce10-4f18-ea5c-4dc6687a256a"
      },
      "execution_count": 25,
      "outputs": [
        {
          "output_type": "stream",
          "name": "stdout",
          "text": [
            "Metric  gross_claims_incurred  net _combined_ratio\n",
            "count              456.000000         4.560000e+02\n",
            "mean               128.384496        -2.403903e+03\n",
            "std                359.005234         5.123774e+04\n",
            "min                -38.236000        -1.094010e+06\n",
            "25%                  0.000000         0.000000e+00\n",
            "50%                  4.893000         5.670000e-01\n",
            "75%                 98.196000         9.785000e-01\n",
            "max               3319.574000         8.636438e+03\n"
          ]
        }
      ]
    },
    {
      "cell_type": "code",
      "source": [
        "#graphical distribution\n",
        "\n",
        "# Create a histogram for the 'Equity' column\n",
        "\n",
        "plt.hist(cluster_data_1['Equity'], bins=5, color='skyblue', edgecolor='black')\n",
        "\n",
        "# Add labels and title\n",
        "plt.xlabel('Equity')\n",
        "plt.ylabel('Frequency')\n",
        "plt.title('Age Distribution Histogram')\n",
        "\n",
        "# Show the plot\n",
        "plt.show()\n",
        "\n",
        "# Create a histogram for the 'GWP' column\n",
        "plt.hist(cluster_data_1['GWP'], bins=5, color='skyblue', edgecolor='black')\n",
        "\n",
        "# Add labels and title\n",
        "plt.xlabel('Equity')\n",
        "plt.ylabel('Frequency')\n",
        "plt.title('Age Distribution Histogram')\n",
        "\n",
        "# Show the plot\n",
        "plt.show()\n",
        "\n",
        "\n",
        "\n",
        "# Create a histogram for the 'NWP' column\n",
        "plt.hist(cluster_data_1['NWP'], bins=5, color='skyblue', edgecolor='black')\n",
        "\n",
        "# Add labels and title\n",
        "plt.xlabel('Equity')\n",
        "plt.ylabel('Frequency')\n",
        "plt.title('Age Distribution Histogram')\n",
        "\n",
        "# Show the plot\n",
        "plt.show()\n",
        "\n",
        "# Create a histogram for the 'SCR_coverage_ratio' column\n",
        "plt.hist(cluster_data_1['SCR_coverage_ratio'], bins=5, color='skyblue', edgecolor='black')\n",
        "\n",
        "# Add labels and title\n",
        "plt.xlabel('Equity')\n",
        "plt.ylabel('Frequency')\n",
        "plt.title('Age Distribution Histogram')\n",
        "\n",
        "# Show the plot\n",
        "plt.show()\n",
        "\n",
        "#As visible in the plots, data is not normally distributed and is skewed to the right."
      ],
      "metadata": {
        "colab": {
          "base_uri": "https://localhost:8080/",
          "height": 1000
        },
        "id": "SiEeo4X--6sz",
        "outputId": "0469ccb0-7ae9-4003-b9ae-37911d3c279f"
      },
      "execution_count": 108,
      "outputs": [
        {
          "output_type": "display_data",
          "data": {
            "text/plain": [
              "<Figure size 640x480 with 1 Axes>"
            ],
            "image/png": "[encoded data removed]"
          },
          "metadata": {}
        },
        {
          "output_type": "display_data",
          "data": {
            "text/plain": [
              "<Figure size 640x480 with 1 Axes>"
            ],
            "image/png": "[encoded data removed]"
          },
          "metadata": {}
        },
        {
          "output_type": "display_data",
          "data": {
            "text/plain": [
              "<Figure size 640x480 with 1 Axes>"
            ],
            "image/png": "[encoded data removed]"
          },
          "metadata": {}
        },
        {
          "output_type": "display_data",
          "data": {
            "text/plain": [
              "<Figure size 640x480 with 1 Axes>"
            ],
            "image/png": "[encoded data removed]"
          },
          "metadata": {}
        }
      ]
    },
    {
      "cell_type": "code",
      "source": [
        "#creating a box plot to see the distribution of colums\n",
        "# Create a box plot for the 'Age' column using Seaborn\n",
        "sns.boxplot(x='gross_claims_incurred', data=cluster_data_2)\n",
        "\n",
        "# Add title\n",
        "plt.title('Box Plot for gross_claims_incurred')\n",
        "\n",
        "# Show the plot\n",
        "plt.show()\n",
        "\n",
        "sns.boxplot(x='net _combined_ratio', data=cluster_data_2)\n",
        "\n",
        "# Add title\n",
        "plt.title('Box Plot for net _combined_ratio')\n",
        "\n",
        "# Show the plot\n",
        "plt.show()\n"
      ],
      "metadata": {
        "colab": {
          "base_uri": "https://localhost:8080/",
          "height": 927
        },
        "id": "YUp0DfTODdeW",
        "outputId": "c182fd42-a385-4c46-ba07-c3516654aa45"
      },
      "execution_count": 110,
      "outputs": [
        {
          "output_type": "display_data",
          "data": {
            "text/plain": [
              "<Figure size 640x480 with 1 Axes>"
            ],
            "image/png": "[encoded data removed]"
          },
          "metadata": {}
        },
        {
          "output_type": "display_data",
          "data": {
            "text/plain": [
              "<Figure size 640x480 with 1 Axes>"
            ],
            "image/png": "[encoded data removed]"
          },
          "metadata": {}
        }
      ]
    },
    {
      "cell_type": "markdown",
      "source": [
        "Cluster Analysis"
      ],
      "metadata": {
        "id": "M52zwF0LFHxM"
      }
    },
    {
      "cell_type": "code",
      "source": [
        "#joining cluster_dataset_1 and cluster_dataset_2 based in the column 'Firm'\n",
        "\n",
        "inner_join_result = pd.merge(cluster_data_1, cluster_data_2, on='Firm')\n",
        "\n",
        "print(inner_join_result)\n",
        "\n",
        "#removing the column Firm from the final table\n",
        "final_table = inner_join_result.drop('Firm', axis=1)\n",
        "print(final_table)"
      ],
      "metadata": {
        "colab": {
          "base_uri": "https://localhost:8080/"
        },
        "id": "1QqLmpm-FLh0",
        "outputId": "8614baf6-d81f-4b8c-fe37-5bd3ee709fa0"
      },
      "execution_count": 85,
      "outputs": [
        {
          "output_type": "stream",
          "name": "stdout",
          "text": [
            "Metric      Firm    Equity       GWP       NWP  SCR_coverage_ratio  \\\n",
            "0         Firm_1   249.664     9.354 -3550.820        1.117740e+07   \n",
            "1        Firm_10  7289.004  6200.640  3269.050        1.118000e+00   \n",
            "2       Firm_100   136.324    24.972    29.808        1.292000e+00   \n",
            "3       Firm_101  7730.016  6633.498  3687.636        1.084000e+00   \n",
            "4       Firm_102     2.346     0.000     0.000        2.734000e+00   \n",
            "..           ...       ...       ...       ...                 ...   \n",
            "320      Firm_95    20.168     0.008     0.004        6.122000e+00   \n",
            "321      Firm_96    50.864    -0.002    -0.004        8.680000e-01   \n",
            "322      Firm_97    54.188     7.500     6.196        2.018000e+00   \n",
            "323      Firm_98     2.516     0.000     0.000        3.280000e+00   \n",
            "324      Firm_99   292.400   511.272   193.010        1.362000e+00   \n",
            "\n",
            "Metric  gross_claims_incurred  net _combined_ratio  \n",
            "0                       0.002               14.260  \n",
            "1                     111.120                0.804  \n",
            "2                     152.224                0.310  \n",
            "3                       0.000                0.000  \n",
            "4                     304.844                1.168  \n",
            "..                        ...                  ...  \n",
            "320                     0.000                0.000  \n",
            "321                   344.746                0.368  \n",
            "322                    98.280                0.488  \n",
            "323                     0.000                0.000  \n",
            "324                    26.354           -14690.054  \n",
            "\n",
            "[325 rows x 7 columns]\n",
            "Metric    Equity       GWP       NWP  SCR_coverage_ratio  \\\n",
            "0        249.664     9.354 -3550.820        1.117740e+07   \n",
            "1       7289.004  6200.640  3269.050        1.118000e+00   \n",
            "2        136.324    24.972    29.808        1.292000e+00   \n",
            "3       7730.016  6633.498  3687.636        1.084000e+00   \n",
            "4          2.346     0.000     0.000        2.734000e+00   \n",
            "..           ...       ...       ...                 ...   \n",
            "320       20.168     0.008     0.004        6.122000e+00   \n",
            "321       50.864    -0.002    -0.004        8.680000e-01   \n",
            "322       54.188     7.500     6.196        2.018000e+00   \n",
            "323        2.516     0.000     0.000        3.280000e+00   \n",
            "324      292.400   511.272   193.010        1.362000e+00   \n",
            "\n",
            "Metric  gross_claims_incurred  net _combined_ratio  \n",
            "0                       0.002               14.260  \n",
            "1                     111.120                0.804  \n",
            "2                     152.224                0.310  \n",
            "3                       0.000                0.000  \n",
            "4                     304.844                1.168  \n",
            "..                        ...                  ...  \n",
            "320                     0.000                0.000  \n",
            "321                   344.746                0.368  \n",
            "322                    98.280                0.488  \n",
            "323                     0.000                0.000  \n",
            "324                    26.354           -14690.054  \n",
            "\n",
            "[325 rows x 6 columns]\n"
          ]
        }
      ]
    },
    {
      "cell_type": "code",
      "source": [
        "final_table_bu=final_table"
      ],
      "metadata": {
        "id": "5-hc05tnYoSn"
      },
      "execution_count": 86,
      "outputs": []
    },
    {
      "cell_type": "code",
      "source": [
        "final_table_bu"
      ],
      "metadata": {
        "colab": {
          "base_uri": "https://localhost:8080/",
          "height": 423
        },
        "id": "WwDFSUG8YseA",
        "outputId": "e8c92c6e-c773-4e33-babc-a2fceb1c2c7f"
      },
      "execution_count": 87,
      "outputs": [
        {
          "output_type": "execute_result",
          "data": {
            "text/plain": [
              "Metric    Equity       GWP       NWP  SCR_coverage_ratio  \\\n",
              "0        249.664     9.354 -3550.820        1.117740e+07   \n",
              "1       7289.004  6200.640  3269.050        1.118000e+00   \n",
              "2        136.324    24.972    29.808        1.292000e+00   \n",
              "3       7730.016  6633.498  3687.636        1.084000e+00   \n",
              "4          2.346     0.000     0.000        2.734000e+00   \n",
              "..           ...       ...       ...                 ...   \n",
              "320       20.168     0.008     0.004        6.122000e+00   \n",
              "321       50.864    -0.002    -0.004        8.680000e-01   \n",
              "322       54.188     7.500     6.196        2.018000e+00   \n",
              "323        2.516     0.000     0.000        3.280000e+00   \n",
              "324      292.400   511.272   193.010        1.362000e+00   \n",
              "\n",
              "Metric  gross_claims_incurred  net _combined_ratio  \n",
              "0                       0.002               14.260  \n",
              "1                     111.120                0.804  \n",
              "2                     152.224                0.310  \n",
              "3                       0.000                0.000  \n",
              "4                     304.844                1.168  \n",
              "..                        ...                  ...  \n",
              "320                     0.000                0.000  \n",
              "321                   344.746                0.368  \n",
              "322                    98.280                0.488  \n",
              "323                     0.000                0.000  \n",
              "324                    26.354           -14690.054  \n",
              "\n",
              "[325 rows x 6 columns]"
            ],
            "text/html": [
              "\n",
              "\n",
              "  <div id=\"df-3064a07d-06f6-4946-b515-66630f92566c\">\n",
              "    <div class=\"colab-df-container\">\n",
              "      <div>\n",
              "<style scoped>\n",
              "    .dataframe tbody tr th:only-of-type {\n",
              "        vertical-align: middle;\n",
              "    }\n",
              "\n",
              "    .dataframe tbody tr th {\n",
              "        vertical-align: top;\n",
              "    }\n",
              "\n",
              "    .dataframe thead th {\n",
              "        text-align: right;\n",
              "    }\n",
              "</style>\n",
              "<table border=\"1\" class=\"dataframe\">\n",
              "  <thead>\n",
              "    <tr style=\"text-align: right;\">\n",
              "      <th>Metric</th>\n",
              "      <th>Equity</th>\n",
              "      <th>GWP</th>\n",
              "      <th>NWP</th>\n",
              "      <th>SCR_coverage_ratio</th>\n",
              "      <th>gross_claims_incurred</th>\n",
              "      <th>net _combined_ratio</th>\n",
              "    </tr>\n",
              "  </thead>\n",
              "  <tbody>\n",
              "    <tr>\n",
              "      <th>0</th>\n",
              "      <td>249.664</td>\n",
              "      <td>9.354</td>\n",
              "      <td>-3550.820</td>\n",
              "      <td>1.117740e+07</td>\n",
              "      <td>0.002</td>\n",
              "      <td>14.260</td>\n",
              "    </tr>\n",
              "    <tr>\n",
              "      <th>1</th>\n",
              "      <td>7289.004</td>\n",
              "      <td>6200.640</td>\n",
              "      <td>3269.050</td>\n",
              "      <td>1.118000e+00</td>\n",
              "      <td>111.120</td>\n",
              "      <td>0.804</td>\n",
              "    </tr>\n",
              "    <tr>\n",
              "      <th>2</th>\n",
              "      <td>136.324</td>\n",
              "      <td>24.972</td>\n",
              "      <td>29.808</td>\n",
              "      <td>1.292000e+00</td>\n",
              "      <td>152.224</td>\n",
              "      <td>0.310</td>\n",
              "    </tr>\n",
              "    <tr>\n",
              "      <th>3</th>\n",
              "      <td>7730.016</td>\n",
              "      <td>6633.498</td>\n",
              "      <td>3687.636</td>\n",
              "      <td>1.084000e+00</td>\n",
              "      <td>0.000</td>\n",
              "      <td>0.000</td>\n",
              "    </tr>\n",
              "    <tr>\n",
              "      <th>4</th>\n",
              "      <td>2.346</td>\n",
              "      <td>0.000</td>\n",
              "      <td>0.000</td>\n",
              "      <td>2.734000e+00</td>\n",
              "      <td>304.844</td>\n",
              "      <td>1.168</td>\n",
              "    </tr>\n",
              "    <tr>\n",
              "      <th>...</th>\n",
              "      <td>...</td>\n",
              "      <td>...</td>\n",
              "      <td>...</td>\n",
              "      <td>...</td>\n",
              "      <td>...</td>\n",
              "      <td>...</td>\n",
              "    </tr>\n",
              "    <tr>\n",
              "      <th>320</th>\n",
              "      <td>20.168</td>\n",
              "      <td>0.008</td>\n",
              "      <td>0.004</td>\n",
              "      <td>6.122000e+00</td>\n",
              "      <td>0.000</td>\n",
              "      <td>0.000</td>\n",
              "    </tr>\n",
              "    <tr>\n",
              "      <th>321</th>\n",
              "      <td>50.864</td>\n",
              "      <td>-0.002</td>\n",
              "      <td>-0.004</td>\n",
              "      <td>8.680000e-01</td>\n",
              "      <td>344.746</td>\n",
              "      <td>0.368</td>\n",
              "    </tr>\n",
              "    <tr>\n",
              "      <th>322</th>\n",
              "      <td>54.188</td>\n",
              "      <td>7.500</td>\n",
              "      <td>6.196</td>\n",
              "      <td>2.018000e+00</td>\n",
              "      <td>98.280</td>\n",
              "      <td>0.488</td>\n",
              "    </tr>\n",
              "    <tr>\n",
              "      <th>323</th>\n",
              "      <td>2.516</td>\n",
              "      <td>0.000</td>\n",
              "      <td>0.000</td>\n",
              "      <td>3.280000e+00</td>\n",
              "      <td>0.000</td>\n",
              "      <td>0.000</td>\n",
              "    </tr>\n",
              "    <tr>\n",
              "      <th>324</th>\n",
              "      <td>292.400</td>\n",
              "      <td>511.272</td>\n",
              "      <td>193.010</td>\n",
              "      <td>1.362000e+00</td>\n",
              "      <td>26.354</td>\n",
              "      <td>-14690.054</td>\n",
              "    </tr>\n",
              "  </tbody>\n",
              "</table>\n",
              "<p>325 rows × 6 columns</p>\n",
              "</div>\n",
              "      <button class=\"colab-df-convert\" onclick=\"convertToInteractive('df-3064a07d-06f6-4946-b515-66630f92566c')\"\n",
              "              title=\"Convert this dataframe to an interactive table.\"\n",
              "              style=\"display:none;\">\n",
              "\n",
              "  <svg xmlns=\"http://www.w3.org/2000/svg\" height=\"24px\"viewBox=\"0 0 24 24\"\n",
              "       width=\"24px\">\n",
              "    <path d=\"M0 0h24v24H0V0z\" fill=\"none\"/>\n",
              "    <path d=\"M18.56 5.44l.94 2.06.94-2.06 2.06-.94-2.06-.94-.94-2.06-.94 2.06-2.06.94zm-11 1L8.5 8.5l.94-2.06 2.06-.94-2.06-.94L8.5 2.5l-.94 2.06-2.06.94zm10 10l.94 2.06.94-2.06 2.06-.94-2.06-.94-.94-2.06-.94 2.06-2.06.94z\"/><path d=\"M17.41 7.96l-1.37-1.37c-.4-.4-.92-.59-1.43-.59-.52 0-1.04.2-1.43.59L10.3 9.45l-7.72 7.72c-.78.78-.78 2.05 0 2.83L4 21.41c.39.39.9.59 1.41.59.51 0 1.02-.2 1.41-.59l7.78-7.78 2.81-2.81c.8-.78.8-2.07 0-2.86zM5.41 20L4 18.59l7.72-7.72 1.47 1.35L5.41 20z\"/>\n",
              "  </svg>\n",
              "      </button>\n",
              "\n",
              "\n",
              "\n",
              "    <div id=\"df-7aa8b302-3722-46c1-b48b-03d4e7c8cfad\">\n",
              "      <button class=\"colab-df-quickchart\" onclick=\"quickchart('df-7aa8b302-3722-46c1-b48b-03d4e7c8cfad')\"\n",
              "              title=\"Suggest charts.\"\n",
              "              style=\"display:none;\">\n",
              "\n",
              "<svg xmlns=\"http://www.w3.org/2000/svg\" height=\"24px\"viewBox=\"0 0 24 24\"\n",
              "     width=\"24px\">\n",
              "    <g>\n",
              "        <path d=\"M19 3H5c-1.1 0-2 .9-2 2v14c0 1.1.9 2 2 2h14c1.1 0 2-.9 2-2V5c0-1.1-.9-2-2-2zM9 17H7v-7h2v7zm4 0h-2V7h2v10zm4 0h-2v-4h2v4z\"/>\n",
              "    </g>\n",
              "</svg>\n",
              "      </button>\n",
              "    </div>\n",
              "\n",
              "<style>\n",
              "  .colab-df-quickchart {\n",
              "    background-color: #E8F0FE;\n",
              "    border: none;\n",
              "    border-radius: 50%;\n",
              "    cursor: pointer;\n",
              "    display: none;\n",
              "    fill: #1967D2;\n",
              "    height: 32px;\n",
              "    padding: 0 0 0 0;\n",
              "    width: 32px;\n",
              "  }\n",
              "\n",
              "  .colab-df-quickchart:hover {\n",
              "    background-color: #E2EBFA;\n",
              "    box-shadow: 0px 1px 2px rgba(60, 64, 67, 0.3), 0px 1px 3px 1px rgba(60, 64, 67, 0.15);\n",
              "    fill: #174EA6;\n",
              "  }\n",
              "\n",
              "  [theme=dark] .colab-df-quickchart {\n",
              "    background-color: #3B4455;\n",
              "    fill: #D2E3FC;\n",
              "  }\n",
              "\n",
              "  [theme=dark] .colab-df-quickchart:hover {\n",
              "    background-color: #434B5C;\n",
              "    box-shadow: 0px 1px 3px 1px rgba(0, 0, 0, 0.15);\n",
              "    filter: drop-shadow(0px 1px 2px rgba(0, 0, 0, 0.3));\n",
              "    fill: #FFFFFF;\n",
              "  }\n",
              "</style>\n",
              "\n",
              "    <script>\n",
              "      async function quickchart(key) {\n",
              "        const containerElement = document.querySelector('#' + key);\n",
              "        const charts = await google.colab.kernel.invokeFunction(\n",
              "            'suggestCharts', [key], {});\n",
              "      }\n",
              "    </script>\n",
              "\n",
              "      <script>\n",
              "\n",
              "function displayQuickchartButton(domScope) {\n",
              "  let quickchartButtonEl =\n",
              "    domScope.querySelector('#df-7aa8b302-3722-46c1-b48b-03d4e7c8cfad button.colab-df-quickchart');\n",
              "  quickchartButtonEl.style.display =\n",
              "    google.colab.kernel.accessAllowed ? 'block' : 'none';\n",
              "}\n",
              "\n",
              "        displayQuickchartButton(document);\n",
              "      </script>\n",
              "      <style>\n",
              "    .colab-df-container {\n",
              "      display:flex;\n",
              "      flex-wrap:wrap;\n",
              "      gap: 12px;\n",
              "    }\n",
              "\n",
              "    .colab-df-convert {\n",
              "      background-color: #E8F0FE;\n",
              "      border: none;\n",
              "      border-radius: 50%;\n",
              "      cursor: pointer;\n",
              "      display: none;\n",
              "      fill: #1967D2;\n",
              "      height: 32px;\n",
              "      padding: 0 0 0 0;\n",
              "      width: 32px;\n",
              "    }\n",
              "\n",
              "    .colab-df-convert:hover {\n",
              "      background-color: #E2EBFA;\n",
              "      box-shadow: 0px 1px 2px rgba(60, 64, 67, 0.3), 0px 1px 3px 1px rgba(60, 64, 67, 0.15);\n",
              "      fill: #174EA6;\n",
              "    }\n",
              "\n",
              "    [theme=dark] .colab-df-convert {\n",
              "      background-color: #3B4455;\n",
              "      fill: #D2E3FC;\n",
              "    }\n",
              "\n",
              "    [theme=dark] .colab-df-convert:hover {\n",
              "      background-color: #434B5C;\n",
              "      box-shadow: 0px 1px 3px 1px rgba(0, 0, 0, 0.15);\n",
              "      filter: drop-shadow(0px 1px 2px rgba(0, 0, 0, 0.3));\n",
              "      fill: #FFFFFF;\n",
              "    }\n",
              "  </style>\n",
              "\n",
              "      <script>\n",
              "        const buttonEl =\n",
              "          document.querySelector('#df-3064a07d-06f6-4946-b515-66630f92566c button.colab-df-convert');\n",
              "        buttonEl.style.display =\n",
              "          google.colab.kernel.accessAllowed ? 'block' : 'none';\n",
              "\n",
              "        async function convertToInteractive(key) {\n",
              "          const element = document.querySelector('#df-3064a07d-06f6-4946-b515-66630f92566c');\n",
              "          const dataTable =\n",
              "            await google.colab.kernel.invokeFunction('convertToInteractive',\n",
              "                                                     [key], {});\n",
              "          if (!dataTable) return;\n",
              "\n",
              "          const docLinkHtml = 'Like what you see? Visit the ' +\n",
              "            '<a target=\"_blank\" href=https://colab.research.google.com/notebooks/data_table.ipynb>data table notebook</a>'\n",
              "            + ' to learn more about interactive tables.';\n",
              "          element.innerHTML = '';\n",
              "          dataTable['output_type'] = 'display_data';\n",
              "          await google.colab.output.renderOutput(dataTable, element);\n",
              "          const docLink = document.createElement('div');\n",
              "          docLink.innerHTML = docLinkHtml;\n",
              "          element.appendChild(docLink);\n",
              "        }\n",
              "      </script>\n",
              "    </div>\n",
              "  </div>\n"
            ]
          },
          "metadata": {},
          "execution_count": 87
        }
      ]
    },
    {
      "cell_type": "code",
      "source": [
        "#elbow method to see the optimal number of clusters\n",
        "# Initialize empty list to store the sum of squared distances (inertia) for each k\n",
        "inertia = []\n",
        "\n",
        "# Try different values of k (number of clusters)\n",
        "k_values = range(1, 11)\n",
        "for k in k_values:\n",
        "    kmeans = KMeans(n_clusters=k)\n",
        "    kmeans.fit(final_table)\n",
        "    inertia.append(kmeans.inertia_)\n",
        "\n",
        "# Plotting the elbow curve\n",
        "plt.figure(figsize=(8, 6))\n",
        "plt.plot(k_values, inertia, marker='o')\n",
        "plt.xlabel('Number of Clusters (k)')\n",
        "plt.ylabel('Within-Cluster Sum of Squares (WCSS)')\n",
        "plt.title('Elbow Method to Find Optimal k')\n",
        "plt.xticks(k_values)\n",
        "plt.grid(True)\n",
        "plt.show()\n",
        "\n",
        "\n",
        "#As visible, 1 is the optial number of clusters"
      ],
      "metadata": {
        "colab": {
          "base_uri": "https://localhost:8080/",
          "height": 946
        },
        "id": "xzoi0fT1Igft",
        "outputId": "2242c1e0-5fcc-4957-f4ba-ac1b2feee1ef"
      },
      "execution_count": 47,
      "outputs": [
        {
          "output_type": "stream",
          "name": "stderr",
          "text": [
            "/usr/local/lib/python3.10/dist-packages/sklearn/cluster/_kmeans.py:870: FutureWarning: The default value of `n_init` will change from 10 to 'auto' in 1.4. Set the value of `n_init` explicitly to suppress the warning\n",
            "  warnings.warn(\n",
            "/usr/local/lib/python3.10/dist-packages/sklearn/cluster/_kmeans.py:870: FutureWarning: The default value of `n_init` will change from 10 to 'auto' in 1.4. Set the value of `n_init` explicitly to suppress the warning\n",
            "  warnings.warn(\n",
            "/usr/local/lib/python3.10/dist-packages/sklearn/cluster/_kmeans.py:870: FutureWarning: The default value of `n_init` will change from 10 to 'auto' in 1.4. Set the value of `n_init` explicitly to suppress the warning\n",
            "  warnings.warn(\n",
            "/usr/local/lib/python3.10/dist-packages/sklearn/cluster/_kmeans.py:870: FutureWarning: The default value of `n_init` will change from 10 to 'auto' in 1.4. Set the value of `n_init` explicitly to suppress the warning\n",
            "  warnings.warn(\n",
            "/usr/local/lib/python3.10/dist-packages/sklearn/cluster/_kmeans.py:870: FutureWarning: The default value of `n_init` will change from 10 to 'auto' in 1.4. Set the value of `n_init` explicitly to suppress the warning\n",
            "  warnings.warn(\n",
            "/usr/local/lib/python3.10/dist-packages/sklearn/cluster/_kmeans.py:870: FutureWarning: The default value of `n_init` will change from 10 to 'auto' in 1.4. Set the value of `n_init` explicitly to suppress the warning\n",
            "  warnings.warn(\n",
            "/usr/local/lib/python3.10/dist-packages/sklearn/cluster/_kmeans.py:870: FutureWarning: The default value of `n_init` will change from 10 to 'auto' in 1.4. Set the value of `n_init` explicitly to suppress the warning\n",
            "  warnings.warn(\n",
            "/usr/local/lib/python3.10/dist-packages/sklearn/cluster/_kmeans.py:870: FutureWarning: The default value of `n_init` will change from 10 to 'auto' in 1.4. Set the value of `n_init` explicitly to suppress the warning\n",
            "  warnings.warn(\n",
            "/usr/local/lib/python3.10/dist-packages/sklearn/cluster/_kmeans.py:870: FutureWarning: The default value of `n_init` will change from 10 to 'auto' in 1.4. Set the value of `n_init` explicitly to suppress the warning\n",
            "  warnings.warn(\n",
            "/usr/local/lib/python3.10/dist-packages/sklearn/cluster/_kmeans.py:870: FutureWarning: The default value of `n_init` will change from 10 to 'auto' in 1.4. Set the value of `n_init` explicitly to suppress the warning\n",
            "  warnings.warn(\n"
          ]
        },
        {
          "output_type": "display_data",
          "data": {
            "text/plain": [
              "<Figure size 800x600 with 1 Axes>"
            ],
            "image/png": "[encoded data removed]"
          },
          "metadata": {}
        }
      ]
    },
    {
      "cell_type": "code",
      "source": [
        "final_table"
      ],
      "metadata": {
        "colab": {
          "base_uri": "https://localhost:8080/",
          "height": 423
        },
        "id": "FfoE-5KiKoz3",
        "outputId": "3618f2f5-f270-4430-c171-3cc4e01da94d"
      },
      "execution_count": 48,
      "outputs": [
        {
          "output_type": "execute_result",
          "data": {
            "text/plain": [
              "Metric    Equity       GWP       NWP  SCR_coverage_ratio  \\\n",
              "0        249.664     9.354 -3550.820        1.117740e+07   \n",
              "1       7289.004  6200.640  3269.050        1.118000e+00   \n",
              "2        136.324    24.972    29.808        1.292000e+00   \n",
              "3       7730.016  6633.498  3687.636        1.084000e+00   \n",
              "4          2.346     0.000     0.000        2.734000e+00   \n",
              "..           ...       ...       ...                 ...   \n",
              "320       20.168     0.008     0.004        6.122000e+00   \n",
              "321       50.864    -0.002    -0.004        8.680000e-01   \n",
              "322       54.188     7.500     6.196        2.018000e+00   \n",
              "323        2.516     0.000     0.000        3.280000e+00   \n",
              "324      292.400   511.272   193.010        1.362000e+00   \n",
              "\n",
              "Metric  gross_claims_incurred  net _combined_ratio  \n",
              "0                       0.002               14.260  \n",
              "1                     111.120                0.804  \n",
              "2                     152.224                0.310  \n",
              "3                       0.000                0.000  \n",
              "4                     304.844                1.168  \n",
              "..                        ...                  ...  \n",
              "320                     0.000                0.000  \n",
              "321                   344.746                0.368  \n",
              "322                    98.280                0.488  \n",
              "323                     0.000                0.000  \n",
              "324                    26.354           -14690.054  \n",
              "\n",
              "[325 rows x 6 columns]"
            ],
            "text/html": [
              "\n",
              "\n",
              "  <div id=\"df-07776b7a-40c6-4d73-8c39-a5b149cc4d88\">\n",
              "    <div class=\"colab-df-container\">\n",
              "      <div>\n",
              "<style scoped>\n",
              "    .dataframe tbody tr th:only-of-type {\n",
              "        vertical-align: middle;\n",
              "    }\n",
              "\n",
              "    .dataframe tbody tr th {\n",
              "        vertical-align: top;\n",
              "    }\n",
              "\n",
              "    .dataframe thead th {\n",
              "        text-align: right;\n",
              "    }\n",
              "</style>\n",
              "<table border=\"1\" class=\"dataframe\">\n",
              "  <thead>\n",
              "    <tr style=\"text-align: right;\">\n",
              "      <th>Metric</th>\n",
              "      <th>Equity</th>\n",
              "      <th>GWP</th>\n",
              "      <th>NWP</th>\n",
              "      <th>SCR_coverage_ratio</th>\n",
              "      <th>gross_claims_incurred</th>\n",
              "      <th>net _combined_ratio</th>\n",
              "    </tr>\n",
              "  </thead>\n",
              "  <tbody>\n",
              "    <tr>\n",
              "      <th>0</th>\n",
              "      <td>249.664</td>\n",
              "      <td>9.354</td>\n",
              "      <td>-3550.820</td>\n",
              "      <td>1.117740e+07</td>\n",
              "      <td>0.002</td>\n",
              "      <td>14.260</td>\n",
              "    </tr>\n",
              "    <tr>\n",
              "      <th>1</th>\n",
              "      <td>7289.004</td>\n",
              "      <td>6200.640</td>\n",
              "      <td>3269.050</td>\n",
              "      <td>1.118000e+00</td>\n",
              "      <td>111.120</td>\n",
              "      <td>0.804</td>\n",
              "    </tr>\n",
              "    <tr>\n",
              "      <th>2</th>\n",
              "      <td>136.324</td>\n",
              "      <td>24.972</td>\n",
              "      <td>29.808</td>\n",
              "      <td>1.292000e+00</td>\n",
              "      <td>152.224</td>\n",
              "      <td>0.310</td>\n",
              "    </tr>\n",
              "    <tr>\n",
              "      <th>3</th>\n",
              "      <td>7730.016</td>\n",
              "      <td>6633.498</td>\n",
              "      <td>3687.636</td>\n",
              "      <td>1.084000e+00</td>\n",
              "      <td>0.000</td>\n",
              "      <td>0.000</td>\n",
              "    </tr>\n",
              "    <tr>\n",
              "      <th>4</th>\n",
              "      <td>2.346</td>\n",
              "      <td>0.000</td>\n",
              "      <td>0.000</td>\n",
              "      <td>2.734000e+00</td>\n",
              "      <td>304.844</td>\n",
              "      <td>1.168</td>\n",
              "    </tr>\n",
              "    <tr>\n",
              "      <th>...</th>\n",
              "      <td>...</td>\n",
              "      <td>...</td>\n",
              "      <td>...</td>\n",
              "      <td>...</td>\n",
              "      <td>...</td>\n",
              "      <td>...</td>\n",
              "    </tr>\n",
              "    <tr>\n",
              "      <th>320</th>\n",
              "      <td>20.168</td>\n",
              "      <td>0.008</td>\n",
              "      <td>0.004</td>\n",
              "      <td>6.122000e+00</td>\n",
              "      <td>0.000</td>\n",
              "      <td>0.000</td>\n",
              "    </tr>\n",
              "    <tr>\n",
              "      <th>321</th>\n",
              "      <td>50.864</td>\n",
              "      <td>-0.002</td>\n",
              "      <td>-0.004</td>\n",
              "      <td>8.680000e-01</td>\n",
              "      <td>344.746</td>\n",
              "      <td>0.368</td>\n",
              "    </tr>\n",
              "    <tr>\n",
              "      <th>322</th>\n",
              "      <td>54.188</td>\n",
              "      <td>7.500</td>\n",
              "      <td>6.196</td>\n",
              "      <td>2.018000e+00</td>\n",
              "      <td>98.280</td>\n",
              "      <td>0.488</td>\n",
              "    </tr>\n",
              "    <tr>\n",
              "      <th>323</th>\n",
              "      <td>2.516</td>\n",
              "      <td>0.000</td>\n",
              "      <td>0.000</td>\n",
              "      <td>3.280000e+00</td>\n",
              "      <td>0.000</td>\n",
              "      <td>0.000</td>\n",
              "    </tr>\n",
              "    <tr>\n",
              "      <th>324</th>\n",
              "      <td>292.400</td>\n",
              "      <td>511.272</td>\n",
              "      <td>193.010</td>\n",
              "      <td>1.362000e+00</td>\n",
              "      <td>26.354</td>\n",
              "      <td>-14690.054</td>\n",
              "    </tr>\n",
              "  </tbody>\n",
              "</table>\n",
              "<p>325 rows × 6 columns</p>\n",
              "</div>\n",
              "      <button class=\"colab-df-convert\" onclick=\"convertToInteractive('df-07776b7a-40c6-4d73-8c39-a5b149cc4d88')\"\n",
              "              title=\"Convert this dataframe to an interactive table.\"\n",
              "              style=\"display:none;\">\n",
              "\n",
              "  <svg xmlns=\"http://www.w3.org/2000/svg\" height=\"24px\"viewBox=\"0 0 24 24\"\n",
              "       width=\"24px\">\n",
              "    <path d=\"M0 0h24v24H0V0z\" fill=\"none\"/>\n",
              "    <path d=\"M18.56 5.44l.94 2.06.94-2.06 2.06-.94-2.06-.94-.94-2.06-.94 2.06-2.06.94zm-11 1L8.5 8.5l.94-2.06 2.06-.94-2.06-.94L8.5 2.5l-.94 2.06-2.06.94zm10 10l.94 2.06.94-2.06 2.06-.94-2.06-.94-.94-2.06-.94 2.06-2.06.94z\"/><path d=\"M17.41 7.96l-1.37-1.37c-.4-.4-.92-.59-1.43-.59-.52 0-1.04.2-1.43.59L10.3 9.45l-7.72 7.72c-.78.78-.78 2.05 0 2.83L4 21.41c.39.39.9.59 1.41.59.51 0 1.02-.2 1.41-.59l7.78-7.78 2.81-2.81c.8-.78.8-2.07 0-2.86zM5.41 20L4 18.59l7.72-7.72 1.47 1.35L5.41 20z\"/>\n",
              "  </svg>\n",
              "      </button>\n",
              "\n",
              "\n",
              "\n",
              "    <div id=\"df-153f79b0-4373-42df-aa11-f7871573e892\">\n",
              "      <button class=\"colab-df-quickchart\" onclick=\"quickchart('df-153f79b0-4373-42df-aa11-f7871573e892')\"\n",
              "              title=\"Suggest charts.\"\n",
              "              style=\"display:none;\">\n",
              "\n",
              "<svg xmlns=\"http://www.w3.org/2000/svg\" height=\"24px\"viewBox=\"0 0 24 24\"\n",
              "     width=\"24px\">\n",
              "    <g>\n",
              "        <path d=\"M19 3H5c-1.1 0-2 .9-2 2v14c0 1.1.9 2 2 2h14c1.1 0 2-.9 2-2V5c0-1.1-.9-2-2-2zM9 17H7v-7h2v7zm4 0h-2V7h2v10zm4 0h-2v-4h2v4z\"/>\n",
              "    </g>\n",
              "</svg>\n",
              "      </button>\n",
              "    </div>\n",
              "\n",
              "<style>\n",
              "  .colab-df-quickchart {\n",
              "    background-color: #E8F0FE;\n",
              "    border: none;\n",
              "    border-radius: 50%;\n",
              "    cursor: pointer;\n",
              "    display: none;\n",
              "    fill: #1967D2;\n",
              "    height: 32px;\n",
              "    padding: 0 0 0 0;\n",
              "    width: 32px;\n",
              "  }\n",
              "\n",
              "  .colab-df-quickchart:hover {\n",
              "    background-color: #E2EBFA;\n",
              "    box-shadow: 0px 1px 2px rgba(60, 64, 67, 0.3), 0px 1px 3px 1px rgba(60, 64, 67, 0.15);\n",
              "    fill: #174EA6;\n",
              "  }\n",
              "\n",
              "  [theme=dark] .colab-df-quickchart {\n",
              "    background-color: #3B4455;\n",
              "    fill: #D2E3FC;\n",
              "  }\n",
              "\n",
              "  [theme=dark] .colab-df-quickchart:hover {\n",
              "    background-color: #434B5C;\n",
              "    box-shadow: 0px 1px 3px 1px rgba(0, 0, 0, 0.15);\n",
              "    filter: drop-shadow(0px 1px 2px rgba(0, 0, 0, 0.3));\n",
              "    fill: #FFFFFF;\n",
              "  }\n",
              "</style>\n",
              "\n",
              "    <script>\n",
              "      async function quickchart(key) {\n",
              "        const containerElement = document.querySelector('#' + key);\n",
              "        const charts = await google.colab.kernel.invokeFunction(\n",
              "            'suggestCharts', [key], {});\n",
              "      }\n",
              "    </script>\n",
              "\n",
              "      <script>\n",
              "\n",
              "function displayQuickchartButton(domScope) {\n",
              "  let quickchartButtonEl =\n",
              "    domScope.querySelector('#df-153f79b0-4373-42df-aa11-f7871573e892 button.colab-df-quickchart');\n",
              "  quickchartButtonEl.style.display =\n",
              "    google.colab.kernel.accessAllowed ? 'block' : 'none';\n",
              "}\n",
              "\n",
              "        displayQuickchartButton(document);\n",
              "      </script>\n",
              "      <style>\n",
              "    .colab-df-container {\n",
              "      display:flex;\n",
              "      flex-wrap:wrap;\n",
              "      gap: 12px;\n",
              "    }\n",
              "\n",
              "    .colab-df-convert {\n",
              "      background-color: #E8F0FE;\n",
              "      border: none;\n",
              "      border-radius: 50%;\n",
              "      cursor: pointer;\n",
              "      display: none;\n",
              "      fill: #1967D2;\n",
              "      height: 32px;\n",
              "      padding: 0 0 0 0;\n",
              "      width: 32px;\n",
              "    }\n",
              "\n",
              "    .colab-df-convert:hover {\n",
              "      background-color: #E2EBFA;\n",
              "      box-shadow: 0px 1px 2px rgba(60, 64, 67, 0.3), 0px 1px 3px 1px rgba(60, 64, 67, 0.15);\n",
              "      fill: #174EA6;\n",
              "    }\n",
              "\n",
              "    [theme=dark] .colab-df-convert {\n",
              "      background-color: #3B4455;\n",
              "      fill: #D2E3FC;\n",
              "    }\n",
              "\n",
              "    [theme=dark] .colab-df-convert:hover {\n",
              "      background-color: #434B5C;\n",
              "      box-shadow: 0px 1px 3px 1px rgba(0, 0, 0, 0.15);\n",
              "      filter: drop-shadow(0px 1px 2px rgba(0, 0, 0, 0.3));\n",
              "      fill: #FFFFFF;\n",
              "    }\n",
              "  </style>\n",
              "\n",
              "      <script>\n",
              "        const buttonEl =\n",
              "          document.querySelector('#df-07776b7a-40c6-4d73-8c39-a5b149cc4d88 button.colab-df-convert');\n",
              "        buttonEl.style.display =\n",
              "          google.colab.kernel.accessAllowed ? 'block' : 'none';\n",
              "\n",
              "        async function convertToInteractive(key) {\n",
              "          const element = document.querySelector('#df-07776b7a-40c6-4d73-8c39-a5b149cc4d88');\n",
              "          const dataTable =\n",
              "            await google.colab.kernel.invokeFunction('convertToInteractive',\n",
              "                                                     [key], {});\n",
              "          if (!dataTable) return;\n",
              "\n",
              "          const docLinkHtml = 'Like what you see? Visit the ' +\n",
              "            '<a target=\"_blank\" href=https://colab.research.google.com/notebooks/data_table.ipynb>data table notebook</a>'\n",
              "            + ' to learn more about interactive tables.';\n",
              "          element.innerHTML = '';\n",
              "          dataTable['output_type'] = 'display_data';\n",
              "          await google.colab.output.renderOutput(dataTable, element);\n",
              "          const docLink = document.createElement('div');\n",
              "          docLink.innerHTML = docLinkHtml;\n",
              "          element.appendChild(docLink);\n",
              "        }\n",
              "      </script>\n",
              "    </div>\n",
              "  </div>\n"
            ]
          },
          "metadata": {},
          "execution_count": 48
        }
      ]
    },
    {
      "cell_type": "code",
      "source": [
        "#considering all columns\n",
        "# Create and fit the KMeans model with k=2 (number of clusters)\n",
        "kmeans = KMeans(n_clusters=2)\n",
        "kmeans.fit(final_table)\n",
        "\n",
        "# Get the cluster centers and labels\n",
        "cluster_centers = kmeans.cluster_centers_\n",
        "labels = kmeans.labels_\n",
        "\n",
        "# Add the cluster labels as a new column in the DataFrame\n",
        "final_table['Cluster'] = labels"
      ],
      "metadata": {
        "colab": {
          "base_uri": "https://localhost:8080/"
        },
        "id": "8zJ319IgTGq-",
        "outputId": "5f2f064d-6357-4358-f42e-4db8c2a2b0e8"
      },
      "execution_count": 68,
      "outputs": [
        {
          "output_type": "stream",
          "name": "stderr",
          "text": [
            "/usr/local/lib/python3.10/dist-packages/sklearn/cluster/_kmeans.py:870: FutureWarning: The default value of `n_init` will change from 10 to 'auto' in 1.4. Set the value of `n_init` explicitly to suppress the warning\n",
            "  warnings.warn(\n"
          ]
        }
      ]
    },
    {
      "cell_type": "code",
      "source": [
        "color=['Blue','Red']\n",
        "final_table['color']=final_table['Cluster'].map(lambda p: color[p])\n",
        "\n"
      ],
      "metadata": {
        "id": "NtQzRffgGLcs"
      },
      "execution_count": 69,
      "outputs": []
    },
    {
      "cell_type": "code",
      "source": [
        "plt.figure(figsize=(20,10))\n",
        "plt.scatter(final_table[\"Equity\"],\n",
        "            final_table[\"GWP\"],\n",
        "            c=final_table[\"color\"])\n",
        "\n",
        "#most clusters are in group 1"
      ],
      "metadata": {
        "colab": {
          "base_uri": "https://localhost:8080/",
          "height": 687
        },
        "id": "uE7H8q0gHo1a",
        "outputId": "3887f8a4-532b-42ef-8a9e-0787ea8392e5"
      },
      "execution_count": 70,
      "outputs": [
        {
          "output_type": "execute_result",
          "data": {
            "text/plain": [
              "<matplotlib.collections.PathCollection at 0x7c35a9a15600>"
            ]
          },
          "metadata": {},
          "execution_count": 70
        },
        {
          "output_type": "display_data",
          "data": {
            "text/plain": [
              "<Figure size 2000x1000 with 1 Axes>"
            ],
            "image/png": "[encoded data removed]"
          },
          "metadata": {}
        }
      ]
    },
    {
      "cell_type": "code",
      "source": [
        "final_table"
      ],
      "metadata": {
        "colab": {
          "base_uri": "https://localhost:8080/",
          "height": 423
        },
        "id": "TQ100ao97EEp",
        "outputId": "fe886b37-ac51-42c4-fd16-19e356fb4ecb"
      },
      "execution_count": 71,
      "outputs": [
        {
          "output_type": "execute_result",
          "data": {
            "text/plain": [
              "Metric    Equity       GWP       NWP  SCR_coverage_ratio  \\\n",
              "0        249.664     9.354 -3550.820        1.117740e+07   \n",
              "1       7289.004  6200.640  3269.050        1.118000e+00   \n",
              "2        136.324    24.972    29.808        1.292000e+00   \n",
              "3       7730.016  6633.498  3687.636        1.084000e+00   \n",
              "4          2.346     0.000     0.000        2.734000e+00   \n",
              "..           ...       ...       ...                 ...   \n",
              "320       20.168     0.008     0.004        6.122000e+00   \n",
              "321       50.864    -0.002    -0.004        8.680000e-01   \n",
              "322       54.188     7.500     6.196        2.018000e+00   \n",
              "323        2.516     0.000     0.000        3.280000e+00   \n",
              "324      292.400   511.272   193.010        1.362000e+00   \n",
              "\n",
              "Metric  gross_claims_incurred  net _combined_ratio  Cluster color  \n",
              "0                       0.002               14.260        0  Blue  \n",
              "1                     111.120                0.804        0  Blue  \n",
              "2                     152.224                0.310        0  Blue  \n",
              "3                       0.000                0.000        0  Blue  \n",
              "4                     304.844                1.168        0  Blue  \n",
              "..                        ...                  ...      ...   ...  \n",
              "320                     0.000                0.000        0  Blue  \n",
              "321                   344.746                0.368        0  Blue  \n",
              "322                    98.280                0.488        0  Blue  \n",
              "323                     0.000                0.000        0  Blue  \n",
              "324                    26.354           -14690.054        0  Blue  \n",
              "\n",
              "[325 rows x 8 columns]"
            ],
            "text/html": [
              "\n",
              "\n",
              "  <div id=\"df-a0905ceb-fe6c-4f38-a87c-67c52cb7fa4b\">\n",
              "    <div class=\"colab-df-container\">\n",
              "      <div>\n",
              "<style scoped>\n",
              "    .dataframe tbody tr th:only-of-type {\n",
              "        vertical-align: middle;\n",
              "    }\n",
              "\n",
              "    .dataframe tbody tr th {\n",
              "        vertical-align: top;\n",
              "    }\n",
              "\n",
              "    .dataframe thead th {\n",
              "        text-align: right;\n",
              "    }\n",
              "</style>\n",
              "<table border=\"1\" class=\"dataframe\">\n",
              "  <thead>\n",
              "    <tr style=\"text-align: right;\">\n",
              "      <th>Metric</th>\n",
              "      <th>Equity</th>\n",
              "      <th>GWP</th>\n",
              "      <th>NWP</th>\n",
              "      <th>SCR_coverage_ratio</th>\n",
              "      <th>gross_claims_incurred</th>\n",
              "      <th>net _combined_ratio</th>\n",
              "      <th>Cluster</th>\n",
              "      <th>color</th>\n",
              "    </tr>\n",
              "  </thead>\n",
              "  <tbody>\n",
              "    <tr>\n",
              "      <th>0</th>\n",
              "      <td>249.664</td>\n",
              "      <td>9.354</td>\n",
              "      <td>-3550.820</td>\n",
              "      <td>1.117740e+07</td>\n",
              "      <td>0.002</td>\n",
              "      <td>14.260</td>\n",
              "      <td>0</td>\n",
              "      <td>Blue</td>\n",
              "    </tr>\n",
              "    <tr>\n",
              "      <th>1</th>\n",
              "      <td>7289.004</td>\n",
              "      <td>6200.640</td>\n",
              "      <td>3269.050</td>\n",
              "      <td>1.118000e+00</td>\n",
              "      <td>111.120</td>\n",
              "      <td>0.804</td>\n",
              "      <td>0</td>\n",
              "      <td>Blue</td>\n",
              "    </tr>\n",
              "    <tr>\n",
              "      <th>2</th>\n",
              "      <td>136.324</td>\n",
              "      <td>24.972</td>\n",
              "      <td>29.808</td>\n",
              "      <td>1.292000e+00</td>\n",
              "      <td>152.224</td>\n",
              "      <td>0.310</td>\n",
              "      <td>0</td>\n",
              "      <td>Blue</td>\n",
              "    </tr>\n",
              "    <tr>\n",
              "      <th>3</th>\n",
              "      <td>7730.016</td>\n",
              "      <td>6633.498</td>\n",
              "      <td>3687.636</td>\n",
              "      <td>1.084000e+00</td>\n",
              "      <td>0.000</td>\n",
              "      <td>0.000</td>\n",
              "      <td>0</td>\n",
              "      <td>Blue</td>\n",
              "    </tr>\n",
              "    <tr>\n",
              "      <th>4</th>\n",
              "      <td>2.346</td>\n",
              "      <td>0.000</td>\n",
              "      <td>0.000</td>\n",
              "      <td>2.734000e+00</td>\n",
              "      <td>304.844</td>\n",
              "      <td>1.168</td>\n",
              "      <td>0</td>\n",
              "      <td>Blue</td>\n",
              "    </tr>\n",
              "    <tr>\n",
              "      <th>...</th>\n",
              "      <td>...</td>\n",
              "      <td>...</td>\n",
              "      <td>...</td>\n",
              "      <td>...</td>\n",
              "      <td>...</td>\n",
              "      <td>...</td>\n",
              "      <td>...</td>\n",
              "      <td>...</td>\n",
              "    </tr>\n",
              "    <tr>\n",
              "      <th>320</th>\n",
              "      <td>20.168</td>\n",
              "      <td>0.008</td>\n",
              "      <td>0.004</td>\n",
              "      <td>6.122000e+00</td>\n",
              "      <td>0.000</td>\n",
              "      <td>0.000</td>\n",
              "      <td>0</td>\n",
              "      <td>Blue</td>\n",
              "    </tr>\n",
              "    <tr>\n",
              "      <th>321</th>\n",
              "      <td>50.864</td>\n",
              "      <td>-0.002</td>\n",
              "      <td>-0.004</td>\n",
              "      <td>8.680000e-01</td>\n",
              "      <td>344.746</td>\n",
              "      <td>0.368</td>\n",
              "      <td>0</td>\n",
              "      <td>Blue</td>\n",
              "    </tr>\n",
              "    <tr>\n",
              "      <th>322</th>\n",
              "      <td>54.188</td>\n",
              "      <td>7.500</td>\n",
              "      <td>6.196</td>\n",
              "      <td>2.018000e+00</td>\n",
              "      <td>98.280</td>\n",
              "      <td>0.488</td>\n",
              "      <td>0</td>\n",
              "      <td>Blue</td>\n",
              "    </tr>\n",
              "    <tr>\n",
              "      <th>323</th>\n",
              "      <td>2.516</td>\n",
              "      <td>0.000</td>\n",
              "      <td>0.000</td>\n",
              "      <td>3.280000e+00</td>\n",
              "      <td>0.000</td>\n",
              "      <td>0.000</td>\n",
              "      <td>0</td>\n",
              "      <td>Blue</td>\n",
              "    </tr>\n",
              "    <tr>\n",
              "      <th>324</th>\n",
              "      <td>292.400</td>\n",
              "      <td>511.272</td>\n",
              "      <td>193.010</td>\n",
              "      <td>1.362000e+00</td>\n",
              "      <td>26.354</td>\n",
              "      <td>-14690.054</td>\n",
              "      <td>0</td>\n",
              "      <td>Blue</td>\n",
              "    </tr>\n",
              "  </tbody>\n",
              "</table>\n",
              "<p>325 rows × 8 columns</p>\n",
              "</div>\n",
              "      <button class=\"colab-df-convert\" onclick=\"convertToInteractive('df-a0905ceb-fe6c-4f38-a87c-67c52cb7fa4b')\"\n",
              "              title=\"Convert this dataframe to an interactive table.\"\n",
              "              style=\"display:none;\">\n",
              "\n",
              "  <svg xmlns=\"http://www.w3.org/2000/svg\" height=\"24px\"viewBox=\"0 0 24 24\"\n",
              "       width=\"24px\">\n",
              "    <path d=\"M0 0h24v24H0V0z\" fill=\"none\"/>\n",
              "    <path d=\"M18.56 5.44l.94 2.06.94-2.06 2.06-.94-2.06-.94-.94-2.06-.94 2.06-2.06.94zm-11 1L8.5 8.5l.94-2.06 2.06-.94-2.06-.94L8.5 2.5l-.94 2.06-2.06.94zm10 10l.94 2.06.94-2.06 2.06-.94-2.06-.94-.94-2.06-.94 2.06-2.06.94z\"/><path d=\"M17.41 7.96l-1.37-1.37c-.4-.4-.92-.59-1.43-.59-.52 0-1.04.2-1.43.59L10.3 9.45l-7.72 7.72c-.78.78-.78 2.05 0 2.83L4 21.41c.39.39.9.59 1.41.59.51 0 1.02-.2 1.41-.59l7.78-7.78 2.81-2.81c.8-.78.8-2.07 0-2.86zM5.41 20L4 18.59l7.72-7.72 1.47 1.35L5.41 20z\"/>\n",
              "  </svg>\n",
              "      </button>\n",
              "\n",
              "\n",
              "\n",
              "    <div id=\"df-7baf01e8-07ca-451b-9e38-b98e5a53ce46\">\n",
              "      <button class=\"colab-df-quickchart\" onclick=\"quickchart('df-7baf01e8-07ca-451b-9e38-b98e5a53ce46')\"\n",
              "              title=\"Suggest charts.\"\n",
              "              style=\"display:none;\">\n",
              "\n",
              "<svg xmlns=\"http://www.w3.org/2000/svg\" height=\"24px\"viewBox=\"0 0 24 24\"\n",
              "     width=\"24px\">\n",
              "    <g>\n",
              "        <path d=\"M19 3H5c-1.1 0-2 .9-2 2v14c0 1.1.9 2 2 2h14c1.1 0 2-.9 2-2V5c0-1.1-.9-2-2-2zM9 17H7v-7h2v7zm4 0h-2V7h2v10zm4 0h-2v-4h2v4z\"/>\n",
              "    </g>\n",
              "</svg>\n",
              "      </button>\n",
              "    </div>\n",
              "\n",
              "<style>\n",
              "  .colab-df-quickchart {\n",
              "    background-color: #E8F0FE;\n",
              "    border: none;\n",
              "    border-radius: 50%;\n",
              "    cursor: pointer;\n",
              "    display: none;\n",
              "    fill: #1967D2;\n",
              "    height: 32px;\n",
              "    padding: 0 0 0 0;\n",
              "    width: 32px;\n",
              "  }\n",
              "\n",
              "  .colab-df-quickchart:hover {\n",
              "    background-color: #E2EBFA;\n",
              "    box-shadow: 0px 1px 2px rgba(60, 64, 67, 0.3), 0px 1px 3px 1px rgba(60, 64, 67, 0.15);\n",
              "    fill: #174EA6;\n",
              "  }\n",
              "\n",
              "  [theme=dark] .colab-df-quickchart {\n",
              "    background-color: #3B4455;\n",
              "    fill: #D2E3FC;\n",
              "  }\n",
              "\n",
              "  [theme=dark] .colab-df-quickchart:hover {\n",
              "    background-color: #434B5C;\n",
              "    box-shadow: 0px 1px 3px 1px rgba(0, 0, 0, 0.15);\n",
              "    filter: drop-shadow(0px 1px 2px rgba(0, 0, 0, 0.3));\n",
              "    fill: #FFFFFF;\n",
              "  }\n",
              "</style>\n",
              "\n",
              "    <script>\n",
              "      async function quickchart(key) {\n",
              "        const containerElement = document.querySelector('#' + key);\n",
              "        const charts = await google.colab.kernel.invokeFunction(\n",
              "            'suggestCharts', [key], {});\n",
              "      }\n",
              "    </script>\n",
              "\n",
              "      <script>\n",
              "\n",
              "function displayQuickchartButton(domScope) {\n",
              "  let quickchartButtonEl =\n",
              "    domScope.querySelector('#df-7baf01e8-07ca-451b-9e38-b98e5a53ce46 button.colab-df-quickchart');\n",
              "  quickchartButtonEl.style.display =\n",
              "    google.colab.kernel.accessAllowed ? 'block' : 'none';\n",
              "}\n",
              "\n",
              "        displayQuickchartButton(document);\n",
              "      </script>\n",
              "      <style>\n",
              "    .colab-df-container {\n",
              "      display:flex;\n",
              "      flex-wrap:wrap;\n",
              "      gap: 12px;\n",
              "    }\n",
              "\n",
              "    .colab-df-convert {\n",
              "      background-color: #E8F0FE;\n",
              "      border: none;\n",
              "      border-radius: 50%;\n",
              "      cursor: pointer;\n",
              "      display: none;\n",
              "      fill: #1967D2;\n",
              "      height: 32px;\n",
              "      padding: 0 0 0 0;\n",
              "      width: 32px;\n",
              "    }\n",
              "\n",
              "    .colab-df-convert:hover {\n",
              "      background-color: #E2EBFA;\n",
              "      box-shadow: 0px 1px 2px rgba(60, 64, 67, 0.3), 0px 1px 3px 1px rgba(60, 64, 67, 0.15);\n",
              "      fill: #174EA6;\n",
              "    }\n",
              "\n",
              "    [theme=dark] .colab-df-convert {\n",
              "      background-color: #3B4455;\n",
              "      fill: #D2E3FC;\n",
              "    }\n",
              "\n",
              "    [theme=dark] .colab-df-convert:hover {\n",
              "      background-color: #434B5C;\n",
              "      box-shadow: 0px 1px 3px 1px rgba(0, 0, 0, 0.15);\n",
              "      filter: drop-shadow(0px 1px 2px rgba(0, 0, 0, 0.3));\n",
              "      fill: #FFFFFF;\n",
              "    }\n",
              "  </style>\n",
              "\n",
              "      <script>\n",
              "        const buttonEl =\n",
              "          document.querySelector('#df-a0905ceb-fe6c-4f38-a87c-67c52cb7fa4b button.colab-df-convert');\n",
              "        buttonEl.style.display =\n",
              "          google.colab.kernel.accessAllowed ? 'block' : 'none';\n",
              "\n",
              "        async function convertToInteractive(key) {\n",
              "          const element = document.querySelector('#df-a0905ceb-fe6c-4f38-a87c-67c52cb7fa4b');\n",
              "          const dataTable =\n",
              "            await google.colab.kernel.invokeFunction('convertToInteractive',\n",
              "                                                     [key], {});\n",
              "          if (!dataTable) return;\n",
              "\n",
              "          const docLinkHtml = 'Like what you see? Visit the ' +\n",
              "            '<a target=\"_blank\" href=https://colab.research.google.com/notebooks/data_table.ipynb>data table notebook</a>'\n",
              "            + ' to learn more about interactive tables.';\n",
              "          element.innerHTML = '';\n",
              "          dataTable['output_type'] = 'display_data';\n",
              "          await google.colab.output.renderOutput(dataTable, element);\n",
              "          const docLink = document.createElement('div');\n",
              "          docLink.innerHTML = docLinkHtml;\n",
              "          element.appendChild(docLink);\n",
              "        }\n",
              "      </script>\n",
              "    </div>\n",
              "  </div>\n"
            ]
          },
          "metadata": {},
          "execution_count": 71
        }
      ]
    },
    {
      "cell_type": "markdown",
      "source": [
        "PCA ANALYSIS"
      ],
      "metadata": {
        "id": "mdFDSkKjI4N6"
      }
    },
    {
      "cell_type": "code",
      "source": [
        "import pandas as pd\n",
        "from sklearn.cluster import KMeans\n",
        "from sklearn.preprocessing import StandardScaler\n",
        "from sklearn.decomposition import PCA\n",
        "import matplotlib.pyplot as plt\n",
        "\n",
        "\n",
        "column_names = ['Equity', 'GWP', 'NWP', 'SCR_coverage_ratio', 'gross_claims_incurred', 'net _combined_ratio']\n",
        "\n",
        "\n",
        "X = final_table[column_names].values\n",
        "\n",
        "# Standardize the data (important for K-means and many other clustering algorithms)\n",
        "scaler = StandardScaler()\n",
        "X_scaled = scaler.fit_transform(X)\n",
        "\n",
        "# Number of clusters (k) based on elbow method\n",
        "num_clusters = 2  # Replace this with the desired number of clusters\n",
        "\n",
        "# Perform K-means clustering\n",
        "kmeans = KMeans(n_clusters=num_clusters, random_state=42)\n",
        "cluster_labels = kmeans.fit_predict(X_scaled)\n",
        "\n",
        "# Apply PCA for dimensionality reduction to 2 dimensions\n",
        "pca = PCA(n_components=2)\n",
        "X_pca = pca.fit_transform(X_scaled)\n",
        "\n",
        "# Visualize the clusters\n",
        "plt.figure(figsize=(8, 6))\n",
        "plt.scatter(X_pca[:, 0], X_pca[:, 1], c=cluster_labels, cmap='viridis', s=50)\n",
        "plt.scatter(kmeans.cluster_centers_[:, 0], kmeans.cluster_centers_[:, 1], c='red', marker='X', s=200, label='Cluster Centers')\n",
        "plt.xlabel('Principal Component 1')\n",
        "plt.ylabel('Principal Component 2')\n",
        "plt.title('K-means Clustering (PCA Reduced to 2D)')\n",
        "plt.legend()\n",
        "plt.show()"
      ],
      "metadata": {
        "colab": {
          "base_uri": "https://localhost:8080/",
          "height": 620
        },
        "id": "TZIXC5Ov64qA",
        "outputId": "0e9cf4db-b08a-4af1-91dc-25ce0fed2cc1"
      },
      "execution_count": 72,
      "outputs": [
        {
          "output_type": "stream",
          "name": "stderr",
          "text": [
            "/usr/local/lib/python3.10/dist-packages/sklearn/cluster/_kmeans.py:870: FutureWarning: The default value of `n_init` will change from 10 to 'auto' in 1.4. Set the value of `n_init` explicitly to suppress the warning\n",
            "  warnings.warn(\n"
          ]
        },
        {
          "output_type": "display_data",
          "data": {
            "text/plain": [
              "<Figure size 800x600 with 1 Axes>"
            ],
            "image/png": "[encoded data removed]"
          },
          "metadata": {}
        }
      ]
    },
    {
      "cell_type": "code",
      "source": [
        "# Get the loadings for each column in the DataFrame after applying PCA\n",
        "loadings = pd.DataFrame(pca.components_.T, columns=['PC1', 'PC2'], index=column_names)\n",
        "\n",
        "print(\"Loadings for each column:\")\n",
        "print(loadings)"
      ],
      "metadata": {
        "colab": {
          "base_uri": "https://localhost:8080/"
        },
        "id": "AfpptbwEJ-Up",
        "outputId": "f6ae16ff-e326-4675-a400-49b1515abeab"
      },
      "execution_count": 73,
      "outputs": [
        {
          "output_type": "stream",
          "name": "stdout",
          "text": [
            "Loadings for each column:\n",
            "                            PC1       PC2\n",
            "Equity                 0.498206 -0.023209\n",
            "GWP                    0.591953 -0.132997\n",
            "NWP                    0.606809 -0.092714\n",
            "SCR_coverage_ratio     0.039322  0.720657\n",
            "gross_claims_incurred  0.175714  0.673646\n",
            "net _combined_ratio    0.027264 -0.005714\n"
          ]
        }
      ]
    },
    {
      "cell_type": "code",
      "source": [
        "# Visualize the loadings using a bar plot\n",
        "plt.figure(figsize=(10, 6))\n",
        "loadings.plot(kind='bar', ax=plt.gca())\n",
        "plt.xlabel('Original Features')\n",
        "plt.ylabel('Loadings')\n",
        "plt.title('Loadings for Each Original Feature in Principal Components (PCA)')\n",
        "plt.xticks(rotation=45, ha='right')\n",
        "plt.show()"
      ],
      "metadata": {
        "colab": {
          "base_uri": "https://localhost:8080/",
          "height": 668
        },
        "id": "Fhw_9x0lKXeK",
        "outputId": "d537943f-9c61-48e9-94be-2ea575adbed1"
      },
      "execution_count": 74,
      "outputs": [
        {
          "output_type": "display_data",
          "data": {
            "text/plain": [
              "<Figure size 1000x600 with 1 Axes>"
            ],
            "image/png": "[encoded data removed]"
          },
          "metadata": {}
        }
      ]
    },
    {
      "cell_type": "code",
      "source": [
        "# Get explained variance ratio for each principal component\n",
        "explained_variance_ratio = pca.explained_variance_ratio_\n",
        "\n",
        "# Find which PC explains maximum variance\n",
        "max_variance_pc = explained_variance_ratio.argmax() + 1\n",
        "\n",
        "print(f\"Principal Component {max_variance_pc} explains the maximum variance.\")\n",
        "\n",
        "plt.show()"
      ],
      "metadata": {
        "colab": {
          "base_uri": "https://localhost:8080/"
        },
        "id": "vSVrSAi6MK3y",
        "outputId": "3aa0dea4-5510-401a-8fe0-e2ac1d091a3f"
      },
      "execution_count": 75,
      "outputs": [
        {
          "output_type": "stream",
          "name": "stdout",
          "text": [
            "Principal Component 1 explains the maximum variance.\n"
          ]
        }
      ]
    },
    {
      "cell_type": "code",
      "source": [
        "print(final_table_bu)"
      ],
      "metadata": {
        "colab": {
          "base_uri": "https://localhost:8080/"
        },
        "id": "MC9VOlDLVfMz",
        "outputId": "32303500-a5ae-4af8-8808-5d679bad7ead"
      },
      "execution_count": 89,
      "outputs": [
        {
          "output_type": "stream",
          "name": "stdout",
          "text": [
            "Metric    Equity       GWP       NWP  SCR_coverage_ratio  \\\n",
            "0        249.664     9.354 -3550.820        1.117740e+07   \n",
            "1       7289.004  6200.640  3269.050        1.118000e+00   \n",
            "2        136.324    24.972    29.808        1.292000e+00   \n",
            "3       7730.016  6633.498  3687.636        1.084000e+00   \n",
            "4          2.346     0.000     0.000        2.734000e+00   \n",
            "..           ...       ...       ...                 ...   \n",
            "320       20.168     0.008     0.004        6.122000e+00   \n",
            "321       50.864    -0.002    -0.004        8.680000e-01   \n",
            "322       54.188     7.500     6.196        2.018000e+00   \n",
            "323        2.516     0.000     0.000        3.280000e+00   \n",
            "324      292.400   511.272   193.010        1.362000e+00   \n",
            "\n",
            "Metric  gross_claims_incurred  net _combined_ratio  \n",
            "0                       0.002               14.260  \n",
            "1                     111.120                0.804  \n",
            "2                     152.224                0.310  \n",
            "3                       0.000                0.000  \n",
            "4                     304.844                1.168  \n",
            "..                        ...                  ...  \n",
            "320                     0.000                0.000  \n",
            "321                   344.746                0.368  \n",
            "322                    98.280                0.488  \n",
            "323                     0.000                0.000  \n",
            "324                    26.354           -14690.054  \n",
            "\n",
            "[325 rows x 6 columns]\n"
          ]
        }
      ]
    },
    {
      "cell_type": "code",
      "source": [
        "#creating model dataset for supervised learning\n",
        "model_data=final_table_bu\n",
        "model_data"
      ],
      "metadata": {
        "colab": {
          "base_uri": "https://localhost:8080/",
          "height": 423
        },
        "id": "lAR11b6lY4q1",
        "outputId": "69a0d521-3d7c-40fb-fc51-a059004a0a29"
      },
      "execution_count": 91,
      "outputs": [
        {
          "output_type": "execute_result",
          "data": {
            "text/plain": [
              "Metric    Equity       GWP       NWP  SCR_coverage_ratio  \\\n",
              "0        249.664     9.354 -3550.820        1.117740e+07   \n",
              "1       7289.004  6200.640  3269.050        1.118000e+00   \n",
              "2        136.324    24.972    29.808        1.292000e+00   \n",
              "3       7730.016  6633.498  3687.636        1.084000e+00   \n",
              "4          2.346     0.000     0.000        2.734000e+00   \n",
              "..           ...       ...       ...                 ...   \n",
              "320       20.168     0.008     0.004        6.122000e+00   \n",
              "321       50.864    -0.002    -0.004        8.680000e-01   \n",
              "322       54.188     7.500     6.196        2.018000e+00   \n",
              "323        2.516     0.000     0.000        3.280000e+00   \n",
              "324      292.400   511.272   193.010        1.362000e+00   \n",
              "\n",
              "Metric  gross_claims_incurred  net _combined_ratio  \n",
              "0                       0.002               14.260  \n",
              "1                     111.120                0.804  \n",
              "2                     152.224                0.310  \n",
              "3                       0.000                0.000  \n",
              "4                     304.844                1.168  \n",
              "..                        ...                  ...  \n",
              "320                     0.000                0.000  \n",
              "321                   344.746                0.368  \n",
              "322                    98.280                0.488  \n",
              "323                     0.000                0.000  \n",
              "324                    26.354           -14690.054  \n",
              "\n",
              "[325 rows x 6 columns]"
            ],
            "text/html": [
              "\n",
              "\n",
              "  <div id=\"df-148f720b-cf7c-4714-9579-fb4eee40d9a2\">\n",
              "    <div class=\"colab-df-container\">\n",
              "      <div>\n",
              "<style scoped>\n",
              "    .dataframe tbody tr th:only-of-type {\n",
              "        vertical-align: middle;\n",
              "    }\n",
              "\n",
              "    .dataframe tbody tr th {\n",
              "        vertical-align: top;\n",
              "    }\n",
              "\n",
              "    .dataframe thead th {\n",
              "        text-align: right;\n",
              "    }\n",
              "</style>\n",
              "<table border=\"1\" class=\"dataframe\">\n",
              "  <thead>\n",
              "    <tr style=\"text-align: right;\">\n",
              "      <th>Metric</th>\n",
              "      <th>Equity</th>\n",
              "      <th>GWP</th>\n",
              "      <th>NWP</th>\n",
              "      <th>SCR_coverage_ratio</th>\n",
              "      <th>gross_claims_incurred</th>\n",
              "      <th>net _combined_ratio</th>\n",
              "    </tr>\n",
              "  </thead>\n",
              "  <tbody>\n",
              "    <tr>\n",
              "      <th>0</th>\n",
              "      <td>249.664</td>\n",
              "      <td>9.354</td>\n",
              "      <td>-3550.820</td>\n",
              "      <td>1.117740e+07</td>\n",
              "      <td>0.002</td>\n",
              "      <td>14.260</td>\n",
              "    </tr>\n",
              "    <tr>\n",
              "      <th>1</th>\n",
              "      <td>7289.004</td>\n",
              "      <td>6200.640</td>\n",
              "      <td>3269.050</td>\n",
              "      <td>1.118000e+00</td>\n",
              "      <td>111.120</td>\n",
              "      <td>0.804</td>\n",
              "    </tr>\n",
              "    <tr>\n",
              "      <th>2</th>\n",
              "      <td>136.324</td>\n",
              "      <td>24.972</td>\n",
              "      <td>29.808</td>\n",
              "      <td>1.292000e+00</td>\n",
              "      <td>152.224</td>\n",
              "      <td>0.310</td>\n",
              "    </tr>\n",
              "    <tr>\n",
              "      <th>3</th>\n",
              "      <td>7730.016</td>\n",
              "      <td>6633.498</td>\n",
              "      <td>3687.636</td>\n",
              "      <td>1.084000e+00</td>\n",
              "      <td>0.000</td>\n",
              "      <td>0.000</td>\n",
              "    </tr>\n",
              "    <tr>\n",
              "      <th>4</th>\n",
              "      <td>2.346</td>\n",
              "      <td>0.000</td>\n",
              "      <td>0.000</td>\n",
              "      <td>2.734000e+00</td>\n",
              "      <td>304.844</td>\n",
              "      <td>1.168</td>\n",
              "    </tr>\n",
              "    <tr>\n",
              "      <th>...</th>\n",
              "      <td>...</td>\n",
              "      <td>...</td>\n",
              "      <td>...</td>\n",
              "      <td>...</td>\n",
              "      <td>...</td>\n",
              "      <td>...</td>\n",
              "    </tr>\n",
              "    <tr>\n",
              "      <th>320</th>\n",
              "      <td>20.168</td>\n",
              "      <td>0.008</td>\n",
              "      <td>0.004</td>\n",
              "      <td>6.122000e+00</td>\n",
              "      <td>0.000</td>\n",
              "      <td>0.000</td>\n",
              "    </tr>\n",
              "    <tr>\n",
              "      <th>321</th>\n",
              "      <td>50.864</td>\n",
              "      <td>-0.002</td>\n",
              "      <td>-0.004</td>\n",
              "      <td>8.680000e-01</td>\n",
              "      <td>344.746</td>\n",
              "      <td>0.368</td>\n",
              "    </tr>\n",
              "    <tr>\n",
              "      <th>322</th>\n",
              "      <td>54.188</td>\n",
              "      <td>7.500</td>\n",
              "      <td>6.196</td>\n",
              "      <td>2.018000e+00</td>\n",
              "      <td>98.280</td>\n",
              "      <td>0.488</td>\n",
              "    </tr>\n",
              "    <tr>\n",
              "      <th>323</th>\n",
              "      <td>2.516</td>\n",
              "      <td>0.000</td>\n",
              "      <td>0.000</td>\n",
              "      <td>3.280000e+00</td>\n",
              "      <td>0.000</td>\n",
              "      <td>0.000</td>\n",
              "    </tr>\n",
              "    <tr>\n",
              "      <th>324</th>\n",
              "      <td>292.400</td>\n",
              "      <td>511.272</td>\n",
              "      <td>193.010</td>\n",
              "      <td>1.362000e+00</td>\n",
              "      <td>26.354</td>\n",
              "      <td>-14690.054</td>\n",
              "    </tr>\n",
              "  </tbody>\n",
              "</table>\n",
              "<p>325 rows × 6 columns</p>\n",
              "</div>\n",
              "      <button class=\"colab-df-convert\" onclick=\"convertToInteractive('df-148f720b-cf7c-4714-9579-fb4eee40d9a2')\"\n",
              "              title=\"Convert this dataframe to an interactive table.\"\n",
              "              style=\"display:none;\">\n",
              "\n",
              "  <svg xmlns=\"http://www.w3.org/2000/svg\" height=\"24px\"viewBox=\"0 0 24 24\"\n",
              "       width=\"24px\">\n",
              "    <path d=\"M0 0h24v24H0V0z\" fill=\"none\"/>\n",
              "    <path d=\"M18.56 5.44l.94 2.06.94-2.06 2.06-.94-2.06-.94-.94-2.06-.94 2.06-2.06.94zm-11 1L8.5 8.5l.94-2.06 2.06-.94-2.06-.94L8.5 2.5l-.94 2.06-2.06.94zm10 10l.94 2.06.94-2.06 2.06-.94-2.06-.94-.94-2.06-.94 2.06-2.06.94z\"/><path d=\"M17.41 7.96l-1.37-1.37c-.4-.4-.92-.59-1.43-.59-.52 0-1.04.2-1.43.59L10.3 9.45l-7.72 7.72c-.78.78-.78 2.05 0 2.83L4 21.41c.39.39.9.59 1.41.59.51 0 1.02-.2 1.41-.59l7.78-7.78 2.81-2.81c.8-.78.8-2.07 0-2.86zM5.41 20L4 18.59l7.72-7.72 1.47 1.35L5.41 20z\"/>\n",
              "  </svg>\n",
              "      </button>\n",
              "\n",
              "\n",
              "\n",
              "    <div id=\"df-2c105326-dfc7-4042-a46b-de4c2bd204d1\">\n",
              "      <button class=\"colab-df-quickchart\" onclick=\"quickchart('df-2c105326-dfc7-4042-a46b-de4c2bd204d1')\"\n",
              "              title=\"Suggest charts.\"\n",
              "              style=\"display:none;\">\n",
              "\n",
              "<svg xmlns=\"http://www.w3.org/2000/svg\" height=\"24px\"viewBox=\"0 0 24 24\"\n",
              "     width=\"24px\">\n",
              "    <g>\n",
              "        <path d=\"M19 3H5c-1.1 0-2 .9-2 2v14c0 1.1.9 2 2 2h14c1.1 0 2-.9 2-2V5c0-1.1-.9-2-2-2zM9 17H7v-7h2v7zm4 0h-2V7h2v10zm4 0h-2v-4h2v4z\"/>\n",
              "    </g>\n",
              "</svg>\n",
              "      </button>\n",
              "    </div>\n",
              "\n",
              "<style>\n",
              "  .colab-df-quickchart {\n",
              "    background-color: #E8F0FE;\n",
              "    border: none;\n",
              "    border-radius: 50%;\n",
              "    cursor: pointer;\n",
              "    display: none;\n",
              "    fill: #1967D2;\n",
              "    height: 32px;\n",
              "    padding: 0 0 0 0;\n",
              "    width: 32px;\n",
              "  }\n",
              "\n",
              "  .colab-df-quickchart:hover {\n",
              "    background-color: #E2EBFA;\n",
              "    box-shadow: 0px 1px 2px rgba(60, 64, 67, 0.3), 0px 1px 3px 1px rgba(60, 64, 67, 0.15);\n",
              "    fill: #174EA6;\n",
              "  }\n",
              "\n",
              "  [theme=dark] .colab-df-quickchart {\n",
              "    background-color: #3B4455;\n",
              "    fill: #D2E3FC;\n",
              "  }\n",
              "\n",
              "  [theme=dark] .colab-df-quickchart:hover {\n",
              "    background-color: #434B5C;\n",
              "    box-shadow: 0px 1px 3px 1px rgba(0, 0, 0, 0.15);\n",
              "    filter: drop-shadow(0px 1px 2px rgba(0, 0, 0, 0.3));\n",
              "    fill: #FFFFFF;\n",
              "  }\n",
              "</style>\n",
              "\n",
              "    <script>\n",
              "      async function quickchart(key) {\n",
              "        const containerElement = document.querySelector('#' + key);\n",
              "        const charts = await google.colab.kernel.invokeFunction(\n",
              "            'suggestCharts', [key], {});\n",
              "      }\n",
              "    </script>\n",
              "\n",
              "      <script>\n",
              "\n",
              "function displayQuickchartButton(domScope) {\n",
              "  let quickchartButtonEl =\n",
              "    domScope.querySelector('#df-2c105326-dfc7-4042-a46b-de4c2bd204d1 button.colab-df-quickchart');\n",
              "  quickchartButtonEl.style.display =\n",
              "    google.colab.kernel.accessAllowed ? 'block' : 'none';\n",
              "}\n",
              "\n",
              "        displayQuickchartButton(document);\n",
              "      </script>\n",
              "      <style>\n",
              "    .colab-df-container {\n",
              "      display:flex;\n",
              "      flex-wrap:wrap;\n",
              "      gap: 12px;\n",
              "    }\n",
              "\n",
              "    .colab-df-convert {\n",
              "      background-color: #E8F0FE;\n",
              "      border: none;\n",
              "      border-radius: 50%;\n",
              "      cursor: pointer;\n",
              "      display: none;\n",
              "      fill: #1967D2;\n",
              "      height: 32px;\n",
              "      padding: 0 0 0 0;\n",
              "      width: 32px;\n",
              "    }\n",
              "\n",
              "    .colab-df-convert:hover {\n",
              "      background-color: #E2EBFA;\n",
              "      box-shadow: 0px 1px 2px rgba(60, 64, 67, 0.3), 0px 1px 3px 1px rgba(60, 64, 67, 0.15);\n",
              "      fill: #174EA6;\n",
              "    }\n",
              "\n",
              "    [theme=dark] .colab-df-convert {\n",
              "      background-color: #3B4455;\n",
              "      fill: #D2E3FC;\n",
              "    }\n",
              "\n",
              "    [theme=dark] .colab-df-convert:hover {\n",
              "      background-color: #434B5C;\n",
              "      box-shadow: 0px 1px 3px 1px rgba(0, 0, 0, 0.15);\n",
              "      filter: drop-shadow(0px 1px 2px rgba(0, 0, 0, 0.3));\n",
              "      fill: #FFFFFF;\n",
              "    }\n",
              "  </style>\n",
              "\n",
              "      <script>\n",
              "        const buttonEl =\n",
              "          document.querySelector('#df-148f720b-cf7c-4714-9579-fb4eee40d9a2 button.colab-df-convert');\n",
              "        buttonEl.style.display =\n",
              "          google.colab.kernel.accessAllowed ? 'block' : 'none';\n",
              "\n",
              "        async function convertToInteractive(key) {\n",
              "          const element = document.querySelector('#df-148f720b-cf7c-4714-9579-fb4eee40d9a2');\n",
              "          const dataTable =\n",
              "            await google.colab.kernel.invokeFunction('convertToInteractive',\n",
              "                                                     [key], {});\n",
              "          if (!dataTable) return;\n",
              "\n",
              "          const docLinkHtml = 'Like what you see? Visit the ' +\n",
              "            '<a target=\"_blank\" href=https://colab.research.google.com/notebooks/data_table.ipynb>data table notebook</a>'\n",
              "            + ' to learn more about interactive tables.';\n",
              "          element.innerHTML = '';\n",
              "          dataTable['output_type'] = 'display_data';\n",
              "          await google.colab.output.renderOutput(dataTable, element);\n",
              "          const docLink = document.createElement('div');\n",
              "          docLink.innerHTML = docLinkHtml;\n",
              "          element.appendChild(docLink);\n",
              "        }\n",
              "      </script>\n",
              "    </div>\n",
              "  </div>\n"
            ]
          },
          "metadata": {},
          "execution_count": 91
        }
      ]
    },
    {
      "cell_type": "code",
      "source": [
        "import numpy as np\n",
        "import pandas as pd\n",
        "import tensorflow as tf\n",
        "from tensorflow import keras\n",
        "from sklearn.model_selection import train_test_split\n",
        "from sklearn.preprocessing import StandardScaler\n",
        "from sklearn.metrics import r2_score, mean_squared_error\n",
        "\n",
        "\n",
        "# Separate the features and target variables\n",
        "X = model_data.drop('Equity', axis=1)\n",
        "y = model_data['Equity']\n",
        "\n",
        "# Split data into training and testing sets\n",
        "X_train, X_test, y_train, y_test = train_test_split(X, y, test_size=0.2, random_state=42)\n",
        "\n",
        "# Standardize the features (optional but recommended for neural networks)\n",
        "scaler = StandardScaler()\n",
        "X_train_scaled = scaler.fit_transform(X_train)\n",
        "X_test_scaled = scaler.transform(X_test)\n",
        "\n",
        "# Build the neural network model\n",
        "model = keras.Sequential([\n",
        "    keras.layers.Dense(64, activation='relu', input_shape=(X_train.shape[1],)),\n",
        "    keras.layers.Dense(32, activation='relu'),\n",
        "    keras.layers.Dense(1)  # Output layer with one neuron for regression\n",
        "])\n",
        "\n",
        "# Compile the model\n",
        "model.compile(optimizer='adam', loss='mean_squared_error')\n",
        "\n",
        "# Train the model\n",
        "model.fit(X_train_scaled, y_train, epochs=100, batch_size=32, verbose=1)\n",
        "\n",
        "# Evaluate the model on the test data\n",
        "test_loss = model.evaluate(X_test_scaled, y_test)\n",
        "print(\"Test Loss:\", test_loss)\n",
        "\n",
        "# Evaluate the model on the test data\n",
        "y_pred = model.predict(X_test_scaled)\n",
        "\n",
        "# Calculate R-squared\n",
        "r2 = r2_score(y_test, y_pred)\n",
        "print(\"R-squared:\", r2)\n",
        "\n",
        "# Calculate Mean Squared Error (MSE)\n",
        "mse = mean_squared_error(y_test, y_pred)\n",
        "print(\"Mean Squared Error (MSE):\", mse)\n"
      ],
      "metadata": {
        "colab": {
          "base_uri": "https://localhost:8080/"
        },
        "id": "CC4CntjXM6bL",
        "outputId": "834f26a6-7337-40f8-f046-743ea9a9ebff"
      },
      "execution_count": 95,
      "outputs": [
        {
          "output_type": "stream",
          "name": "stdout",
          "text": [
            "Epoch 1/100\n",
            "9/9 [==============================] - 1s 4ms/step - loss: 3340850.0000\n",
            "Epoch 2/100\n",
            "9/9 [==============================] - 0s 4ms/step - loss: 3340230.0000\n",
            "Epoch 3/100\n",
            "9/9 [==============================] - 0s 3ms/step - loss: 3339704.2500\n",
            "Epoch 4/100\n",
            "9/9 [==============================] - 0s 3ms/step - loss: 3338996.2500\n",
            "Epoch 5/100\n",
            "9/9 [==============================] - 0s 3ms/step - loss: 3338313.7500\n",
            "Epoch 6/100\n",
            "9/9 [==============================] - 0s 3ms/step - loss: 3337600.0000\n",
            "Epoch 7/100\n",
            "9/9 [==============================] - 0s 3ms/step - loss: 3336593.2500\n",
            "Epoch 8/100\n",
            "9/9 [==============================] - 0s 4ms/step - loss: 3335692.7500\n",
            "Epoch 9/100\n",
            "9/9 [==============================] - 0s 4ms/step - loss: 3334455.7500\n",
            "Epoch 10/100\n",
            "9/9 [==============================] - 0s 4ms/step - loss: 3333077.2500\n",
            "Epoch 11/100\n",
            "9/9 [==============================] - 0s 4ms/step - loss: 3331349.7500\n",
            "Epoch 12/100\n",
            "9/9 [==============================] - 0s 4ms/step - loss: 3329019.0000\n",
            "Epoch 13/100\n",
            "9/9 [==============================] - 0s 4ms/step - loss: 3326336.0000\n",
            "Epoch 14/100\n",
            "9/9 [==============================] - 0s 4ms/step - loss: 3323307.0000\n",
            "Epoch 15/100\n",
            "9/9 [==============================] - 0s 4ms/step - loss: 3319634.0000\n",
            "Epoch 16/100\n",
            "9/9 [==============================] - 0s 4ms/step - loss: 3316386.0000\n",
            "Epoch 17/100\n",
            "9/9 [==============================] - 0s 4ms/step - loss: 3310703.7500\n",
            "Epoch 18/100\n",
            "9/9 [==============================] - 0s 4ms/step - loss: 3306251.0000\n",
            "Epoch 19/100\n",
            "9/9 [==============================] - 0s 4ms/step - loss: 3299437.7500\n",
            "Epoch 20/100\n",
            "9/9 [==============================] - 0s 3ms/step - loss: 3293251.5000\n",
            "Epoch 21/100\n",
            "9/9 [==============================] - 0s 4ms/step - loss: 3284390.7500\n",
            "Epoch 22/100\n",
            "9/9 [==============================] - 0s 3ms/step - loss: 3276251.2500\n",
            "Epoch 23/100\n",
            "9/9 [==============================] - 0s 3ms/step - loss: 3265428.7500\n",
            "Epoch 24/100\n",
            "9/9 [==============================] - 0s 4ms/step - loss: 3255221.7500\n",
            "Epoch 25/100\n",
            "9/9 [==============================] - 0s 5ms/step - loss: 3245923.0000\n",
            "Epoch 26/100\n",
            "9/9 [==============================] - 0s 5ms/step - loss: 3232448.2500\n",
            "Epoch 27/100\n",
            "9/9 [==============================] - 0s 3ms/step - loss: 3221893.0000\n",
            "Epoch 28/100\n",
            "9/9 [==============================] - 0s 3ms/step - loss: 3209703.2500\n",
            "Epoch 29/100\n",
            "9/9 [==============================] - 0s 4ms/step - loss: 3194864.5000\n",
            "Epoch 30/100\n",
            "9/9 [==============================] - 0s 3ms/step - loss: 3178937.7500\n",
            "Epoch 31/100\n",
            "9/9 [==============================] - 0s 3ms/step - loss: 3159921.5000\n",
            "Epoch 32/100\n",
            "9/9 [==============================] - 0s 3ms/step - loss: 3142895.7500\n",
            "Epoch 33/100\n",
            "9/9 [==============================] - 0s 4ms/step - loss: 3126161.7500\n",
            "Epoch 34/100\n",
            "9/9 [==============================] - 0s 3ms/step - loss: 3102422.5000\n",
            "Epoch 35/100\n",
            "9/9 [==============================] - 0s 4ms/step - loss: 3084008.0000\n",
            "Epoch 36/100\n",
            "9/9 [==============================] - 0s 3ms/step - loss: 3061833.0000\n",
            "Epoch 37/100\n",
            "9/9 [==============================] - 0s 3ms/step - loss: 3040642.7500\n",
            "Epoch 38/100\n",
            "9/9 [==============================] - 0s 4ms/step - loss: 3012007.5000\n",
            "Epoch 39/100\n",
            "9/9 [==============================] - 0s 3ms/step - loss: 2983143.0000\n",
            "Epoch 40/100\n",
            "9/9 [==============================] - 0s 4ms/step - loss: 2965125.5000\n",
            "Epoch 41/100\n",
            "9/9 [==============================] - 0s 4ms/step - loss: 2927518.0000\n",
            "Epoch 42/100\n",
            "9/9 [==============================] - 0s 3ms/step - loss: 2900516.5000\n",
            "Epoch 43/100\n",
            "9/9 [==============================] - 0s 7ms/step - loss: 2862165.2500\n",
            "Epoch 44/100\n",
            "9/9 [==============================] - 0s 8ms/step - loss: 2846622.7500\n",
            "Epoch 45/100\n",
            "9/9 [==============================] - 0s 4ms/step - loss: 2817698.0000\n",
            "Epoch 46/100\n",
            "9/9 [==============================] - 0s 3ms/step - loss: 2802680.2500\n",
            "Epoch 47/100\n",
            "9/9 [==============================] - 0s 7ms/step - loss: 2776840.7500\n",
            "Epoch 48/100\n",
            "9/9 [==============================] - 0s 5ms/step - loss: 2744037.2500\n",
            "Epoch 49/100\n",
            "9/9 [==============================] - 0s 4ms/step - loss: 2717390.5000\n",
            "Epoch 50/100\n",
            "9/9 [==============================] - 0s 3ms/step - loss: 2695076.0000\n",
            "Epoch 51/100\n",
            "9/9 [==============================] - 0s 3ms/step - loss: 2677963.2500\n",
            "Epoch 52/100\n",
            "9/9 [==============================] - 0s 4ms/step - loss: 2657981.0000\n",
            "Epoch 53/100\n",
            "9/9 [==============================] - 0s 4ms/step - loss: 2642118.5000\n",
            "Epoch 54/100\n",
            "9/9 [==============================] - 0s 4ms/step - loss: 2625695.7500\n",
            "Epoch 55/100\n",
            "9/9 [==============================] - 0s 3ms/step - loss: 2604855.2500\n",
            "Epoch 56/100\n",
            "9/9 [==============================] - 0s 3ms/step - loss: 2585730.0000\n",
            "Epoch 57/100\n",
            "9/9 [==============================] - 0s 4ms/step - loss: 2566278.7500\n",
            "Epoch 58/100\n",
            "9/9 [==============================] - 0s 8ms/step - loss: 2544005.5000\n",
            "Epoch 59/100\n",
            "9/9 [==============================] - 0s 9ms/step - loss: 2519558.0000\n",
            "Epoch 60/100\n",
            "9/9 [==============================] - 0s 6ms/step - loss: 2483518.0000\n",
            "Epoch 61/100\n",
            "9/9 [==============================] - 0s 3ms/step - loss: 2452519.7500\n",
            "Epoch 62/100\n",
            "9/9 [==============================] - 0s 4ms/step - loss: 2425888.5000\n",
            "Epoch 63/100\n",
            "9/9 [==============================] - 0s 3ms/step - loss: 2406952.2500\n",
            "Epoch 64/100\n",
            "9/9 [==============================] - 0s 3ms/step - loss: 2392487.5000\n",
            "Epoch 65/100\n",
            "9/9 [==============================] - 0s 6ms/step - loss: 2369135.5000\n",
            "Epoch 66/100\n",
            "9/9 [==============================] - 0s 4ms/step - loss: 2356585.5000\n",
            "Epoch 67/100\n",
            "9/9 [==============================] - 0s 7ms/step - loss: 2334542.2500\n",
            "Epoch 68/100\n",
            "9/9 [==============================] - 0s 4ms/step - loss: 2317220.7500\n",
            "Epoch 69/100\n",
            "9/9 [==============================] - 0s 4ms/step - loss: 2294882.7500\n",
            "Epoch 70/100\n",
            "9/9 [==============================] - 0s 4ms/step - loss: 2283409.7500\n",
            "Epoch 71/100\n",
            "9/9 [==============================] - 0s 5ms/step - loss: 2258976.2500\n",
            "Epoch 72/100\n",
            "9/9 [==============================] - 0s 4ms/step - loss: 2247466.0000\n",
            "Epoch 73/100\n",
            "9/9 [==============================] - 0s 7ms/step - loss: 2224041.5000\n",
            "Epoch 74/100\n",
            "9/9 [==============================] - 0s 5ms/step - loss: 2204830.5000\n",
            "Epoch 75/100\n",
            "9/9 [==============================] - 0s 12ms/step - loss: 2185124.2500\n",
            "Epoch 76/100\n",
            "9/9 [==============================] - 0s 4ms/step - loss: 2149013.2500\n",
            "Epoch 77/100\n",
            "9/9 [==============================] - 0s 3ms/step - loss: 2109067.7500\n",
            "Epoch 78/100\n",
            "9/9 [==============================] - 0s 3ms/step - loss: 2096923.6250\n",
            "Epoch 79/100\n",
            "9/9 [==============================] - 0s 2ms/step - loss: 2067000.8750\n",
            "Epoch 80/100\n",
            "9/9 [==============================] - 0s 2ms/step - loss: 2053093.2500\n",
            "Epoch 81/100\n",
            "9/9 [==============================] - 0s 2ms/step - loss: 2036394.3750\n",
            "Epoch 82/100\n",
            "9/9 [==============================] - 0s 4ms/step - loss: 2018410.6250\n",
            "Epoch 83/100\n",
            "9/9 [==============================] - 0s 3ms/step - loss: 2003516.0000\n",
            "Epoch 84/100\n",
            "9/9 [==============================] - 0s 2ms/step - loss: 1983866.1250\n",
            "Epoch 85/100\n",
            "9/9 [==============================] - 0s 4ms/step - loss: 1966662.8750\n",
            "Epoch 86/100\n",
            "9/9 [==============================] - 0s 3ms/step - loss: 1950400.7500\n",
            "Epoch 87/100\n",
            "9/9 [==============================] - 0s 2ms/step - loss: 1929820.5000\n",
            "Epoch 88/100\n",
            "9/9 [==============================] - 0s 2ms/step - loss: 1914370.8750\n",
            "Epoch 89/100\n",
            "9/9 [==============================] - 0s 3ms/step - loss: 1894647.1250\n",
            "Epoch 90/100\n",
            "9/9 [==============================] - 0s 2ms/step - loss: 1881699.0000\n",
            "Epoch 91/100\n",
            "9/9 [==============================] - 0s 3ms/step - loss: 1861785.8750\n",
            "Epoch 92/100\n",
            "9/9 [==============================] - 0s 2ms/step - loss: 1848705.1250\n",
            "Epoch 93/100\n",
            "9/9 [==============================] - 0s 2ms/step - loss: 1828966.6250\n",
            "Epoch 94/100\n",
            "9/9 [==============================] - 0s 3ms/step - loss: 1816772.2500\n",
            "Epoch 95/100\n",
            "9/9 [==============================] - 0s 4ms/step - loss: 1803312.6250\n",
            "Epoch 96/100\n",
            "9/9 [==============================] - 0s 3ms/step - loss: 1783306.6250\n",
            "Epoch 97/100\n",
            "9/9 [==============================] - 0s 2ms/step - loss: 1766585.5000\n",
            "Epoch 98/100\n",
            "9/9 [==============================] - 0s 3ms/step - loss: 1750874.3750\n",
            "Epoch 99/100\n",
            "9/9 [==============================] - 0s 3ms/step - loss: 1739906.6250\n",
            "Epoch 100/100\n",
            "9/9 [==============================] - 0s 3ms/step - loss: 1724519.1250\n",
            "3/3 [==============================] - 0s 5ms/step - loss: 7303088.0000\n",
            "Test Loss: 7303088.0\n",
            "3/3 [==============================] - 0s 5ms/step\n",
            "R-squared: 0.019023646551964313\n",
            "Mean Squared Error (MSE): 7303089.06476463\n"
          ]
        }
      ]
    }
  ]
}